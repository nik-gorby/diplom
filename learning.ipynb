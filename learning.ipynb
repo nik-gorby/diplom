{
 "cells": [
  {
   "cell_type": "code",
   "metadata": {
    "ExecuteTime": {
     "end_time": "2024-06-05T04:43:02.045919Z",
     "start_time": "2024-06-05T04:42:57.645684Z"
    }
   },
   "source": [
    "import pandas as pd\n",
    "from sklearn.model_selection import train_test_split\n",
    "from sklearn.metrics import accuracy_score, classification_report\n",
    "from sklearn.linear_model import LinearRegression\n",
    "from sklearn.metrics import mean_squared_error, mean_absolute_error, r2_score\n",
    "from sklearn.preprocessing import MinMaxScaler\n",
    "from sklearn.neighbors import KNeighborsRegressor\n",
    "import numpy as np\n",
    "import wandb\n",
    "from sklearn.ensemble import RandomForestRegressor\n",
    "from sklearn.tree import DecisionTreeRegressor\n",
    "import joblib\n",
    "import json\n",
    "import os"
   ],
   "outputs": [],
   "execution_count": 1
  },
  {
   "cell_type": "markdown",
   "metadata": {},
   "source": [
    "### Загрузка данных для обучения и разбиение сета на обучающий и целевой  наборы"
   ]
  },
  {
   "cell_type": "code",
   "metadata": {
    "ExecuteTime": {
     "end_time": "2024-06-05T04:43:02.711408Z",
     "start_time": "2024-06-05T04:43:02.050248Z"
    }
   },
   "source": [
    "df = pd.read_csv('./data/df_for_ML_new.csv')\n",
    "df.drop('Unnamed: 0', axis=1, inplace=True)"
   ],
   "outputs": [],
   "execution_count": 2
  },
  {
   "cell_type": "code",
   "metadata": {
    "ExecuteTime": {
     "end_time": "2024-06-05T04:43:02.755836Z",
     "start_time": "2024-06-05T04:43:02.715Z"
    }
   },
   "source": [
    "df.fillna(-1, inplace=True)\n",
    "df['year_built'] = df['year_built'].astype(int)"
   ],
   "outputs": [],
   "execution_count": 3
  },
  {
   "cell_type": "code",
   "metadata": {
    "ExecuteTime": {
     "end_time": "2024-06-05T04:43:02.781605Z",
     "start_time": "2024-06-05T04:43:02.761891Z"
    }
   },
   "source": [
    "X = df.drop('target', axis=1)\n",
    "y = df['target']"
   ],
   "outputs": [],
   "execution_count": 4
  },
  {
   "cell_type": "markdown",
   "metadata": {},
   "source": [
    "### Проведение эксперимента на нескольких моделях с различными комбинациями параметров. Результаты метрик и файлы моделей фиксировались сервисом Weights & Biases"
   ]
  },
  {
   "cell_type": "code",
   "execution_count": null,
   "metadata": {},
   "outputs": [],
   "source": [
    "with open('/home/dwarf/diplom/wandb.json', 'r') as f:\n",
    "  data = json.load(f)\n",
    "  os.environ['WANDB_API_KEY'] = data[\"key\"]\n",
    "\n",
    "wandb.login()\n",
    "\n",
    "\n",
    "# Разделяем на обучающий и тестовый наборы данных\n",
    "X_train, X_test, y_train, y_test = train_test_split(X, y, test_size=0.2, random_state=42)\n",
    "\n",
    "k_list = [1, 3, 5, 7, 9, 11, 13, 15, 20, 30]\n",
    "\n",
    "for k in k_list:\n",
    "  run = wandb.init(entity=None, project=\"diplom_kneighbors\", name = f'knn_run_{k}')\n",
    "  \n",
    "  # Создаем модель k-NN с параметром k \n",
    "  model = KNeighborsRegressor(n_neighbors=k)\n",
    "\n",
    "  # Обучаем модель на обучающем наборе данных\n",
    "  model.fit(X_train, y_train)\n",
    "\n",
    "  # Предсказываем стоимости на тестовом наборе данных\n",
    "  y_pred = model.predict(X_test)\n",
    "\n",
    "  # Рассчитываем метрики качества\n",
    "  mae = mean_absolute_error(y_test, y_pred)\n",
    "  mse = mean_squared_error(y_test, y_pred)\n",
    "  r2 = r2_score(y_test, y_pred)\n",
    "\n",
    "  # Логирование метрик в W&B\n",
    "  wandb.log({\"MAE\": mae})\n",
    "  wandb.log({\"MSE\": mse})\n",
    "  wandb.log({\"R2\": r2})\n",
    "\n",
    "  # Сохранение модели\n",
    "  model_filename = \"random_forest_model.pkl\"\n",
    "  joblib.dump(model, model_filename)\n",
    "\n",
    "  # Загрузка сохраненной модели в W&B\n",
    "  wandb.save(model_filename)\n",
    "\n",
    "# Завершение сессии W&B\n",
    "wandb.finish()"
   ]
  },
  {
   "cell_type": "code",
   "execution_count": null,
   "metadata": {},
   "outputs": [],
   "source": [
    "X_train, X_test, y_train, y_test = train_test_split(X, y, test_size=0.3, random_state=42)\n",
    "\n",
    "with open('/home/dwarf/diplom/wandb.json', 'r') as f:\n",
    "  data = json.load(f)\n",
    "  os.environ['WANDB_API_KEY'] = data[\"key\"]\n",
    "\n",
    "wandb.login()\n",
    "\n",
    "n_estimators = [50, 100, 150, 200]\n",
    "max_depths = [5, 10, 15, 20, 25, 30]\n",
    "\n",
    "for estimators in n_estimators:\n",
    "    for depth in max_depths:\n",
    "      run = wandb.init(entity=None, project=\"diplom_temp\", name = f'rand_for_reg est={estimators} depth={depth}')\n",
    "\n",
    "      # Создание и обучение модели случайного леса для регрессии\n",
    "      model = RandomForestRegressor(n_estimators=estimators, max_depth=depth, random_state=42)\n",
    "\n",
    "      model.fit(X_train, y_train)\n",
    "\n",
    "      # Предсказание на тестовой выборке\n",
    "      y_pred = model.predict(X_test)\n",
    "\n",
    "      # Рассчитываем метрики качества\n",
    "      mae = mean_absolute_error(y_test, y_pred)\n",
    "      mse = mean_squared_error(y_test, y_pred)\n",
    "      r2 = r2_score(y_test, y_pred)\n",
    "\n",
    "      # Логирование метрик в W&B\n",
    "      wandb.log({\"MAE\": mae})\n",
    "      wandb.log({\"MSE\": mse})\n",
    "      wandb.log({\"R2\": r2})   \n",
    "\n",
    "      # Сохранение модели\n",
    "      model_filename = \"random_forest_model.pkl\"\n",
    "      joblib.dump(model, model_filename)\n",
    "\n",
    "      # Загрузка сохраненной модели в W&B\n",
    "      wandb.save(model_filename)\n",
    "\n",
    "# Завершение сессии W&B\n",
    "wandb.finish()"
   ]
  },
  {
   "cell_type": "code",
   "execution_count": null,
   "metadata": {},
   "outputs": [],
   "source": [
    "with open('/home/dwarf/diplom/wandb.json', 'r') as f:\n",
    "  data = json.load(f)\n",
    "  os.environ['WANDB_API_KEY'] = data[\"key\"]\n",
    "\n",
    "wandb.login()\n",
    "\n",
    "run = wandb.init(entity=None, project=\"diplom_0106\", name = f'linear_regression')\n",
    "\n",
    "scaler = MinMaxScaler()\n",
    "\n",
    "X_scaled = scaler.fit_transform(X)\n",
    "X_train, X_test, y_train, y_test = train_test_split(X_scaled, y, test_size=0.2, random_state=42)\n",
    "\n",
    "model = LinearRegression()\n",
    "model.fit(X_train, y_train)\n",
    "\n",
    "# Предсказание на тестовом наборе\n",
    "y_pred = model.predict(X_test)\n",
    "\n",
    "# Рассчитываем метрики качества\n",
    "mae = mean_absolute_error(y_test, y_pred)\n",
    "mse = mean_squared_error(y_test, y_pred)\n",
    "r2 = r2_score(y_test, y_pred)\n",
    "\n",
    "# Логирование метрик в W&B\n",
    "wandb.log({\"MAE\": mae})\n",
    "wandb.log({\"MSE\": mse})\n",
    "wandb.log({\"R2\": r2})   \n",
    "\n",
    "# Сохранение модели\n",
    "model_filename = \"linear_regerssion.pkl\"\n",
    "joblib.dump(model, model_filename)\n",
    "scaler_filename = 'min_max_scaler.pkl'\n",
    "joblib.dump(scaler, scaler_filename)\n",
    "\n",
    "# Загрузка сохраненной модели в W&B\n",
    "wandb.save(model_filename)\n",
    "wandb.save(scaler_filename)\n",
    "\n",
    "# Завершение сессии W&B\n",
    "wandb.finish()"
   ]
  },
  {
   "cell_type": "code",
   "execution_count": null,
   "metadata": {},
   "outputs": [],
   "source": [
    "with open('/home/dwarf/diplom/wandb.json', 'r') as f:\n",
    "  data = json.load(f)\n",
    "  os.environ['WANDB_API_KEY'] = data[\"key\"]\n",
    "\n",
    "wandb.login()\n",
    "\n",
    "# Разделение данных на тренировочный и тестовый наборы\n",
    "X_train, X_test, y_train, y_test = train_test_split(X, y, test_size=0.2)\n",
    "\n",
    "max_depths = [5, 10, 15, 20, 25, 30]\n",
    "\n",
    "for depth in max_depths:\n",
    "  run = wandb.init(entity=None, project=\"diplom_0106\", name = f'Decision Tree depth={depth}')\n",
    "\n",
    "  # Создание и обучение модели дерева решений\n",
    "  model = DecisionTreeRegressor(random_state=42)\n",
    "  model.fit(X_train, y_train)\n",
    "\n",
    "  # Предсказание на тестовом наборе\n",
    "  y_pred = model.predict(X_test)\n",
    "\n",
    "  # Рассчитываем метрики качества\n",
    "  mae = mean_absolute_error(y_test, y_pred)\n",
    "  mse = mean_squared_error(y_test, y_pred)\n",
    "  r2 = r2_score(y_test, y_pred)\n",
    "\n",
    "  # Логирование метрик в W&B\n",
    "  wandb.log({\"MAE\": mae})\n",
    "  wandb.log({\"MSE\": mse})\n",
    "  wandb.log({\"R2\": r2})   \n",
    "\n",
    "  # Сохранение модели\n",
    "  model_filename = \"decision_tree_model.pkl\"\n",
    "  joblib.dump(model, model_filename)\n",
    "\n",
    "  # Загрузка сохраненной модели в W&B\n",
    "  wandb.save(model_filename)\n",
    "\n",
    "# Завершение сессии W&B\n",
    "wandb.finish()"
   ]
  },
  {
   "cell_type": "markdown",
   "metadata": {},
   "source": [
    "### В результате проведенных экспериментов была выбрана модель случайного леса. Остальные модели показали существенно худшие результаты на тестовых данных\n",
    "\n",
    "![Метрики модели случайного леса](./reports/Metrics_rand_forest.png)\n",
    "\n",
    "\n",
    "![Метрики модели knn](./reports/Metrics_knn.png)"
   ]
  }
 ],
 "metadata": {
  "kernelspec": {
   "display_name": "diplom_env_conda",
   "language": "python",
   "name": "python3"
  },
  "language_info": {
   "codemirror_mode": {
    "name": "ipython",
    "version": 3
   },
   "file_extension": ".py",
   "mimetype": "text/x-python",
   "name": "python",
   "nbconvert_exporter": "python",
   "pygments_lexer": "ipython3",
   "version": "3.10.14"
  }
 },
 "nbformat": 4,
 "nbformat_minor": 2
}
