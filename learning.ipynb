{
 "cells": [
  {
   "cell_type": "code",
   "execution_count": 1,
   "metadata": {},
   "outputs": [],
   "source": [
    "import pandas as pd\n",
    "from sklearn.model_selection import train_test_split\n",
    "from sklearn.metrics import accuracy_score, classification_report\n",
    "from sklearn.linear_model import LinearRegression\n",
    "from sklearn.metrics import mean_squared_error, mean_absolute_error, r2_score\n",
    "from sklearn.preprocessing import MinMaxScaler\n",
    "from sklearn.neighbors import KNeighborsRegressor\n",
    "import numpy as np\n",
    "import wandb\n",
    "from sklearn.ensemble import RandomForestRegressor\n",
    "from sklearn.tree import DecisionTreeRegressor\n",
    "import joblib\n",
    "import json\n",
    "import os"
   ]
  },
  {
   "cell_type": "code",
   "execution_count": 2,
   "metadata": {},
   "outputs": [],
   "source": [
    "df = pd.read_csv('./data/df_for_ML_new.csv')\n",
    "df.drop('Unnamed: 0', axis=1, inplace=True)"
   ]
  },
  {
   "cell_type": "code",
   "execution_count": 3,
   "metadata": {},
   "outputs": [
    {
     "data": {
      "text/html": [
       "<div>\n",
       "<style scoped>\n",
       "    .dataframe tbody tr th:only-of-type {\n",
       "        vertical-align: middle;\n",
       "    }\n",
       "\n",
       "    .dataframe tbody tr th {\n",
       "        vertical-align: top;\n",
       "    }\n",
       "\n",
       "    .dataframe thead th {\n",
       "        text-align: right;\n",
       "    }\n",
       "</style>\n",
       "<table border=\"1\" class=\"dataframe\">\n",
       "  <thead>\n",
       "    <tr style=\"text-align: right;\">\n",
       "      <th></th>\n",
       "      <th>baths</th>\n",
       "      <th>sqft</th>\n",
       "      <th>beds</th>\n",
       "      <th>lat</th>\n",
       "      <th>lon</th>\n",
       "      <th>pool</th>\n",
       "      <th>property_type_condo</th>\n",
       "      <th>property_type_land</th>\n",
       "      <th>property_type_multi_family</th>\n",
       "      <th>property_type_other</th>\n",
       "      <th>...</th>\n",
       "      <th>property_type_single_family</th>\n",
       "      <th>property_type_townhouse</th>\n",
       "      <th>property_type_traditional</th>\n",
       "      <th>state</th>\n",
       "      <th>year_built</th>\n",
       "      <th>remodeled_year</th>\n",
       "      <th>avg_school_rating</th>\n",
       "      <th>schools_qty</th>\n",
       "      <th>avg_school_dist</th>\n",
       "      <th>target</th>\n",
       "    </tr>\n",
       "  </thead>\n",
       "  <tbody>\n",
       "    <tr>\n",
       "      <th>0</th>\n",
       "      <td>3.5</td>\n",
       "      <td>2900.0</td>\n",
       "      <td>4</td>\n",
       "      <td>35.627887</td>\n",
       "      <td>-77.335173</td>\n",
       "      <td>NaN</td>\n",
       "      <td>0</td>\n",
       "      <td>0</td>\n",
       "      <td>0</td>\n",
       "      <td>0</td>\n",
       "      <td>...</td>\n",
       "      <td>1</td>\n",
       "      <td>0</td>\n",
       "      <td>0</td>\n",
       "      <td>37</td>\n",
       "      <td>2019.0</td>\n",
       "      <td>0</td>\n",
       "      <td>3.25</td>\n",
       "      <td>8.0</td>\n",
       "      <td>5.54</td>\n",
       "      <td>418000.0</td>\n",
       "    </tr>\n",
       "    <tr>\n",
       "      <th>1</th>\n",
       "      <td>3.0</td>\n",
       "      <td>1947.0</td>\n",
       "      <td>3</td>\n",
       "      <td>47.699482</td>\n",
       "      <td>-117.190979</td>\n",
       "      <td>NaN</td>\n",
       "      <td>0</td>\n",
       "      <td>0</td>\n",
       "      <td>0</td>\n",
       "      <td>0</td>\n",
       "      <td>...</td>\n",
       "      <td>1</td>\n",
       "      <td>0</td>\n",
       "      <td>0</td>\n",
       "      <td>53</td>\n",
       "      <td>2019.0</td>\n",
       "      <td>0</td>\n",
       "      <td>0.27</td>\n",
       "      <td>3.0</td>\n",
       "      <td>1.33</td>\n",
       "      <td>310000.0</td>\n",
       "    </tr>\n",
       "    <tr>\n",
       "      <th>2</th>\n",
       "      <td>2.0</td>\n",
       "      <td>3000.0</td>\n",
       "      <td>3</td>\n",
       "      <td>33.943243</td>\n",
       "      <td>-117.376310</td>\n",
       "      <td>1.0</td>\n",
       "      <td>0</td>\n",
       "      <td>0</td>\n",
       "      <td>0</td>\n",
       "      <td>0</td>\n",
       "      <td>...</td>\n",
       "      <td>1</td>\n",
       "      <td>0</td>\n",
       "      <td>0</td>\n",
       "      <td>6</td>\n",
       "      <td>1961.0</td>\n",
       "      <td>1967</td>\n",
       "      <td>0.67</td>\n",
       "      <td>3.0</td>\n",
       "      <td>1.96</td>\n",
       "      <td>2895000.0</td>\n",
       "    </tr>\n",
       "    <tr>\n",
       "      <th>3</th>\n",
       "      <td>8.0</td>\n",
       "      <td>6457.0</td>\n",
       "      <td>5</td>\n",
       "      <td>32.702323</td>\n",
       "      <td>-97.347071</td>\n",
       "      <td>NaN</td>\n",
       "      <td>0</td>\n",
       "      <td>0</td>\n",
       "      <td>0</td>\n",
       "      <td>0</td>\n",
       "      <td>...</td>\n",
       "      <td>1</td>\n",
       "      <td>0</td>\n",
       "      <td>0</td>\n",
       "      <td>48</td>\n",
       "      <td>2006.0</td>\n",
       "      <td>2006</td>\n",
       "      <td>0.92</td>\n",
       "      <td>4.0</td>\n",
       "      <td>0.75</td>\n",
       "      <td>2395000.0</td>\n",
       "    </tr>\n",
       "    <tr>\n",
       "      <th>4</th>\n",
       "      <td>NaN</td>\n",
       "      <td>NaN</td>\n",
       "      <td>1</td>\n",
       "      <td>27.041567</td>\n",
       "      <td>-82.136146</td>\n",
       "      <td>NaN</td>\n",
       "      <td>0</td>\n",
       "      <td>1</td>\n",
       "      <td>0</td>\n",
       "      <td>0</td>\n",
       "      <td>...</td>\n",
       "      <td>0</td>\n",
       "      <td>0</td>\n",
       "      <td>0</td>\n",
       "      <td>12</td>\n",
       "      <td>0.0</td>\n",
       "      <td>0</td>\n",
       "      <td>0.47</td>\n",
       "      <td>3.0</td>\n",
       "      <td>4.08</td>\n",
       "      <td>5000.0</td>\n",
       "    </tr>\n",
       "    <tr>\n",
       "      <th>...</th>\n",
       "      <td>...</td>\n",
       "      <td>...</td>\n",
       "      <td>...</td>\n",
       "      <td>...</td>\n",
       "      <td>...</td>\n",
       "      <td>...</td>\n",
       "      <td>...</td>\n",
       "      <td>...</td>\n",
       "      <td>...</td>\n",
       "      <td>...</td>\n",
       "      <td>...</td>\n",
       "      <td>...</td>\n",
       "      <td>...</td>\n",
       "      <td>...</td>\n",
       "      <td>...</td>\n",
       "      <td>...</td>\n",
       "      <td>...</td>\n",
       "      <td>...</td>\n",
       "      <td>...</td>\n",
       "      <td>...</td>\n",
       "      <td>...</td>\n",
       "    </tr>\n",
       "    <tr>\n",
       "      <th>214090</th>\n",
       "      <td>3.0</td>\n",
       "      <td>2505.0</td>\n",
       "      <td>5</td>\n",
       "      <td>41.456416</td>\n",
       "      <td>-81.836809</td>\n",
       "      <td>NaN</td>\n",
       "      <td>0</td>\n",
       "      <td>0</td>\n",
       "      <td>0</td>\n",
       "      <td>0</td>\n",
       "      <td>...</td>\n",
       "      <td>1</td>\n",
       "      <td>0</td>\n",
       "      <td>0</td>\n",
       "      <td>39</td>\n",
       "      <td>1950.0</td>\n",
       "      <td>2010</td>\n",
       "      <td>0.57</td>\n",
       "      <td>3.0</td>\n",
       "      <td>1.42</td>\n",
       "      <td>384900.0</td>\n",
       "    </tr>\n",
       "    <tr>\n",
       "      <th>214091</th>\n",
       "      <td>NaN</td>\n",
       "      <td>950.0</td>\n",
       "      <td>2</td>\n",
       "      <td>29.441120</td>\n",
       "      <td>-98.487583</td>\n",
       "      <td>1.0</td>\n",
       "      <td>0</td>\n",
       "      <td>0</td>\n",
       "      <td>0</td>\n",
       "      <td>0</td>\n",
       "      <td>...</td>\n",
       "      <td>1</td>\n",
       "      <td>0</td>\n",
       "      <td>0</td>\n",
       "      <td>48</td>\n",
       "      <td>1938.0</td>\n",
       "      <td>1980</td>\n",
       "      <td>0.40</td>\n",
       "      <td>3.0</td>\n",
       "      <td>1.31</td>\n",
       "      <td>799500.0</td>\n",
       "    </tr>\n",
       "    <tr>\n",
       "      <th>214092</th>\n",
       "      <td>3.0</td>\n",
       "      <td>1792.0</td>\n",
       "      <td>4</td>\n",
       "      <td>29.826059</td>\n",
       "      <td>-95.531518</td>\n",
       "      <td>NaN</td>\n",
       "      <td>0</td>\n",
       "      <td>0</td>\n",
       "      <td>0</td>\n",
       "      <td>0</td>\n",
       "      <td>...</td>\n",
       "      <td>1</td>\n",
       "      <td>0</td>\n",
       "      <td>0</td>\n",
       "      <td>48</td>\n",
       "      <td>1970.0</td>\n",
       "      <td>1970</td>\n",
       "      <td>0.27</td>\n",
       "      <td>3.0</td>\n",
       "      <td>0.66</td>\n",
       "      <td>280000.0</td>\n",
       "    </tr>\n",
       "    <tr>\n",
       "      <th>214093</th>\n",
       "      <td>NaN</td>\n",
       "      <td>1895.0</td>\n",
       "      <td>1</td>\n",
       "      <td>32.711046</td>\n",
       "      <td>-97.330033</td>\n",
       "      <td>NaN</td>\n",
       "      <td>0</td>\n",
       "      <td>0</td>\n",
       "      <td>0</td>\n",
       "      <td>0</td>\n",
       "      <td>...</td>\n",
       "      <td>1</td>\n",
       "      <td>0</td>\n",
       "      <td>0</td>\n",
       "      <td>48</td>\n",
       "      <td>1921.0</td>\n",
       "      <td>0</td>\n",
       "      <td>5.00</td>\n",
       "      <td>3.0</td>\n",
       "      <td>1.27</td>\n",
       "      <td>199900.0</td>\n",
       "    </tr>\n",
       "    <tr>\n",
       "      <th>214094</th>\n",
       "      <td>3.0</td>\n",
       "      <td>1152.0</td>\n",
       "      <td>3</td>\n",
       "      <td>40.690838</td>\n",
       "      <td>-73.727628</td>\n",
       "      <td>NaN</td>\n",
       "      <td>0</td>\n",
       "      <td>0</td>\n",
       "      <td>0</td>\n",
       "      <td>0</td>\n",
       "      <td>...</td>\n",
       "      <td>1</td>\n",
       "      <td>0</td>\n",
       "      <td>0</td>\n",
       "      <td>36</td>\n",
       "      <td>1950.0</td>\n",
       "      <td>1950</td>\n",
       "      <td>0.45</td>\n",
       "      <td>2.0</td>\n",
       "      <td>0.60</td>\n",
       "      <td>528000.0</td>\n",
       "    </tr>\n",
       "  </tbody>\n",
       "</table>\n",
       "<p>214095 rows × 21 columns</p>\n",
       "</div>"
      ],
      "text/plain": [
       "        baths    sqft  beds        lat         lon  pool  property_type_condo  \\\n",
       "0         3.5  2900.0     4  35.627887  -77.335173   NaN                    0   \n",
       "1         3.0  1947.0     3  47.699482 -117.190979   NaN                    0   \n",
       "2         2.0  3000.0     3  33.943243 -117.376310   1.0                    0   \n",
       "3         8.0  6457.0     5  32.702323  -97.347071   NaN                    0   \n",
       "4         NaN     NaN     1  27.041567  -82.136146   NaN                    0   \n",
       "...       ...     ...   ...        ...         ...   ...                  ...   \n",
       "214090    3.0  2505.0     5  41.456416  -81.836809   NaN                    0   \n",
       "214091    NaN   950.0     2  29.441120  -98.487583   1.0                    0   \n",
       "214092    3.0  1792.0     4  29.826059  -95.531518   NaN                    0   \n",
       "214093    NaN  1895.0     1  32.711046  -97.330033   NaN                    0   \n",
       "214094    3.0  1152.0     3  40.690838  -73.727628   NaN                    0   \n",
       "\n",
       "        property_type_land  property_type_multi_family  property_type_other  \\\n",
       "0                        0                           0                    0   \n",
       "1                        0                           0                    0   \n",
       "2                        0                           0                    0   \n",
       "3                        0                           0                    0   \n",
       "4                        1                           0                    0   \n",
       "...                    ...                         ...                  ...   \n",
       "214090                   0                           0                    0   \n",
       "214091                   0                           0                    0   \n",
       "214092                   0                           0                    0   \n",
       "214093                   0                           0                    0   \n",
       "214094                   0                           0                    0   \n",
       "\n",
       "        ...  property_type_single_family  property_type_townhouse  \\\n",
       "0       ...                            1                        0   \n",
       "1       ...                            1                        0   \n",
       "2       ...                            1                        0   \n",
       "3       ...                            1                        0   \n",
       "4       ...                            0                        0   \n",
       "...     ...                          ...                      ...   \n",
       "214090  ...                            1                        0   \n",
       "214091  ...                            1                        0   \n",
       "214092  ...                            1                        0   \n",
       "214093  ...                            1                        0   \n",
       "214094  ...                            1                        0   \n",
       "\n",
       "        property_type_traditional  state  year_built  remodeled_year  \\\n",
       "0                               0     37      2019.0               0   \n",
       "1                               0     53      2019.0               0   \n",
       "2                               0      6      1961.0            1967   \n",
       "3                               0     48      2006.0            2006   \n",
       "4                               0     12         0.0               0   \n",
       "...                           ...    ...         ...             ...   \n",
       "214090                          0     39      1950.0            2010   \n",
       "214091                          0     48      1938.0            1980   \n",
       "214092                          0     48      1970.0            1970   \n",
       "214093                          0     48      1921.0               0   \n",
       "214094                          0     36      1950.0            1950   \n",
       "\n",
       "        avg_school_rating  schools_qty  avg_school_dist     target  \n",
       "0                    3.25          8.0             5.54   418000.0  \n",
       "1                    0.27          3.0             1.33   310000.0  \n",
       "2                    0.67          3.0             1.96  2895000.0  \n",
       "3                    0.92          4.0             0.75  2395000.0  \n",
       "4                    0.47          3.0             4.08     5000.0  \n",
       "...                   ...          ...              ...        ...  \n",
       "214090               0.57          3.0             1.42   384900.0  \n",
       "214091               0.40          3.0             1.31   799500.0  \n",
       "214092               0.27          3.0             0.66   280000.0  \n",
       "214093               5.00          3.0             1.27   199900.0  \n",
       "214094               0.45          2.0             0.60   528000.0  \n",
       "\n",
       "[214095 rows x 21 columns]"
      ]
     },
     "execution_count": 3,
     "metadata": {},
     "output_type": "execute_result"
    }
   ],
   "source": [
    "df"
   ]
  },
  {
   "cell_type": "code",
   "execution_count": 4,
   "metadata": {},
   "outputs": [
    {
     "name": "stderr",
     "output_type": "stream",
     "text": [
      "/tmp/ipykernel_454983/2812525487.py:2: FutureWarning: A value is trying to be set on a copy of a DataFrame or Series through chained assignment using an inplace method.\n",
      "The behavior will change in pandas 3.0. This inplace method will never work because the intermediate object on which we are setting values always behaves as a copy.\n",
      "\n",
      "For example, when doing 'df[col].method(value, inplace=True)', try using 'df.method({col: value}, inplace=True)' or df[col] = df[col].method(value) instead, to perform the operation inplace on the original object.\n",
      "\n",
      "\n",
      "  df['pool'].fillna(0, inplace=True)\n"
     ]
    }
   ],
   "source": [
    "# df['year_built'].fillna(-1, inplace=True)\n",
    "df['pool'].fillna(0, inplace=True)\n",
    "df.fillna(-1, inplace=True)\n",
    "df['year_built'] = df['year_built'].astype(int)"
   ]
  },
  {
   "cell_type": "code",
   "execution_count": 5,
   "metadata": {},
   "outputs": [],
   "source": [
    "X = df.drop('target', axis=1)\n",
    "y = df['target']"
   ]
  },
  {
   "cell_type": "code",
   "execution_count": 6,
   "metadata": {},
   "outputs": [
    {
     "data": {
      "text/html": [
       "<div>\n",
       "<style scoped>\n",
       "    .dataframe tbody tr th:only-of-type {\n",
       "        vertical-align: middle;\n",
       "    }\n",
       "\n",
       "    .dataframe tbody tr th {\n",
       "        vertical-align: top;\n",
       "    }\n",
       "\n",
       "    .dataframe thead th {\n",
       "        text-align: right;\n",
       "    }\n",
       "</style>\n",
       "<table border=\"1\" class=\"dataframe\">\n",
       "  <thead>\n",
       "    <tr style=\"text-align: right;\">\n",
       "      <th></th>\n",
       "      <th>baths</th>\n",
       "      <th>sqft</th>\n",
       "      <th>beds</th>\n",
       "      <th>lat</th>\n",
       "      <th>lon</th>\n",
       "      <th>pool</th>\n",
       "      <th>property_type_condo</th>\n",
       "      <th>property_type_land</th>\n",
       "      <th>property_type_multi_family</th>\n",
       "      <th>property_type_other</th>\n",
       "      <th>property_type_ranch</th>\n",
       "      <th>property_type_single_family</th>\n",
       "      <th>property_type_townhouse</th>\n",
       "      <th>property_type_traditional</th>\n",
       "      <th>state</th>\n",
       "      <th>year_built</th>\n",
       "      <th>remodeled_year</th>\n",
       "      <th>avg_school_rating</th>\n",
       "      <th>schools_qty</th>\n",
       "      <th>avg_school_dist</th>\n",
       "    </tr>\n",
       "  </thead>\n",
       "  <tbody>\n",
       "    <tr>\n",
       "      <th>0</th>\n",
       "      <td>3.5</td>\n",
       "      <td>2900.0</td>\n",
       "      <td>4</td>\n",
       "      <td>35.627887</td>\n",
       "      <td>-77.335173</td>\n",
       "      <td>0.0</td>\n",
       "      <td>0</td>\n",
       "      <td>0</td>\n",
       "      <td>0</td>\n",
       "      <td>0</td>\n",
       "      <td>0</td>\n",
       "      <td>1</td>\n",
       "      <td>0</td>\n",
       "      <td>0</td>\n",
       "      <td>37</td>\n",
       "      <td>2019</td>\n",
       "      <td>0</td>\n",
       "      <td>3.25</td>\n",
       "      <td>8.0</td>\n",
       "      <td>5.54</td>\n",
       "    </tr>\n",
       "    <tr>\n",
       "      <th>1</th>\n",
       "      <td>3.0</td>\n",
       "      <td>1947.0</td>\n",
       "      <td>3</td>\n",
       "      <td>47.699482</td>\n",
       "      <td>-117.190979</td>\n",
       "      <td>0.0</td>\n",
       "      <td>0</td>\n",
       "      <td>0</td>\n",
       "      <td>0</td>\n",
       "      <td>0</td>\n",
       "      <td>0</td>\n",
       "      <td>1</td>\n",
       "      <td>0</td>\n",
       "      <td>0</td>\n",
       "      <td>53</td>\n",
       "      <td>2019</td>\n",
       "      <td>0</td>\n",
       "      <td>0.27</td>\n",
       "      <td>3.0</td>\n",
       "      <td>1.33</td>\n",
       "    </tr>\n",
       "    <tr>\n",
       "      <th>2</th>\n",
       "      <td>2.0</td>\n",
       "      <td>3000.0</td>\n",
       "      <td>3</td>\n",
       "      <td>33.943243</td>\n",
       "      <td>-117.376310</td>\n",
       "      <td>1.0</td>\n",
       "      <td>0</td>\n",
       "      <td>0</td>\n",
       "      <td>0</td>\n",
       "      <td>0</td>\n",
       "      <td>0</td>\n",
       "      <td>1</td>\n",
       "      <td>0</td>\n",
       "      <td>0</td>\n",
       "      <td>6</td>\n",
       "      <td>1961</td>\n",
       "      <td>1967</td>\n",
       "      <td>0.67</td>\n",
       "      <td>3.0</td>\n",
       "      <td>1.96</td>\n",
       "    </tr>\n",
       "    <tr>\n",
       "      <th>3</th>\n",
       "      <td>8.0</td>\n",
       "      <td>6457.0</td>\n",
       "      <td>5</td>\n",
       "      <td>32.702323</td>\n",
       "      <td>-97.347071</td>\n",
       "      <td>0.0</td>\n",
       "      <td>0</td>\n",
       "      <td>0</td>\n",
       "      <td>0</td>\n",
       "      <td>0</td>\n",
       "      <td>0</td>\n",
       "      <td>1</td>\n",
       "      <td>0</td>\n",
       "      <td>0</td>\n",
       "      <td>48</td>\n",
       "      <td>2006</td>\n",
       "      <td>2006</td>\n",
       "      <td>0.92</td>\n",
       "      <td>4.0</td>\n",
       "      <td>0.75</td>\n",
       "    </tr>\n",
       "    <tr>\n",
       "      <th>4</th>\n",
       "      <td>-1.0</td>\n",
       "      <td>-1.0</td>\n",
       "      <td>1</td>\n",
       "      <td>27.041567</td>\n",
       "      <td>-82.136146</td>\n",
       "      <td>0.0</td>\n",
       "      <td>0</td>\n",
       "      <td>1</td>\n",
       "      <td>0</td>\n",
       "      <td>0</td>\n",
       "      <td>0</td>\n",
       "      <td>0</td>\n",
       "      <td>0</td>\n",
       "      <td>0</td>\n",
       "      <td>12</td>\n",
       "      <td>0</td>\n",
       "      <td>0</td>\n",
       "      <td>0.47</td>\n",
       "      <td>3.0</td>\n",
       "      <td>4.08</td>\n",
       "    </tr>\n",
       "    <tr>\n",
       "      <th>...</th>\n",
       "      <td>...</td>\n",
       "      <td>...</td>\n",
       "      <td>...</td>\n",
       "      <td>...</td>\n",
       "      <td>...</td>\n",
       "      <td>...</td>\n",
       "      <td>...</td>\n",
       "      <td>...</td>\n",
       "      <td>...</td>\n",
       "      <td>...</td>\n",
       "      <td>...</td>\n",
       "      <td>...</td>\n",
       "      <td>...</td>\n",
       "      <td>...</td>\n",
       "      <td>...</td>\n",
       "      <td>...</td>\n",
       "      <td>...</td>\n",
       "      <td>...</td>\n",
       "      <td>...</td>\n",
       "      <td>...</td>\n",
       "    </tr>\n",
       "    <tr>\n",
       "      <th>214090</th>\n",
       "      <td>3.0</td>\n",
       "      <td>2505.0</td>\n",
       "      <td>5</td>\n",
       "      <td>41.456416</td>\n",
       "      <td>-81.836809</td>\n",
       "      <td>0.0</td>\n",
       "      <td>0</td>\n",
       "      <td>0</td>\n",
       "      <td>0</td>\n",
       "      <td>0</td>\n",
       "      <td>0</td>\n",
       "      <td>1</td>\n",
       "      <td>0</td>\n",
       "      <td>0</td>\n",
       "      <td>39</td>\n",
       "      <td>1950</td>\n",
       "      <td>2010</td>\n",
       "      <td>0.57</td>\n",
       "      <td>3.0</td>\n",
       "      <td>1.42</td>\n",
       "    </tr>\n",
       "    <tr>\n",
       "      <th>214091</th>\n",
       "      <td>-1.0</td>\n",
       "      <td>950.0</td>\n",
       "      <td>2</td>\n",
       "      <td>29.441120</td>\n",
       "      <td>-98.487583</td>\n",
       "      <td>1.0</td>\n",
       "      <td>0</td>\n",
       "      <td>0</td>\n",
       "      <td>0</td>\n",
       "      <td>0</td>\n",
       "      <td>0</td>\n",
       "      <td>1</td>\n",
       "      <td>0</td>\n",
       "      <td>0</td>\n",
       "      <td>48</td>\n",
       "      <td>1938</td>\n",
       "      <td>1980</td>\n",
       "      <td>0.40</td>\n",
       "      <td>3.0</td>\n",
       "      <td>1.31</td>\n",
       "    </tr>\n",
       "    <tr>\n",
       "      <th>214092</th>\n",
       "      <td>3.0</td>\n",
       "      <td>1792.0</td>\n",
       "      <td>4</td>\n",
       "      <td>29.826059</td>\n",
       "      <td>-95.531518</td>\n",
       "      <td>0.0</td>\n",
       "      <td>0</td>\n",
       "      <td>0</td>\n",
       "      <td>0</td>\n",
       "      <td>0</td>\n",
       "      <td>0</td>\n",
       "      <td>1</td>\n",
       "      <td>0</td>\n",
       "      <td>0</td>\n",
       "      <td>48</td>\n",
       "      <td>1970</td>\n",
       "      <td>1970</td>\n",
       "      <td>0.27</td>\n",
       "      <td>3.0</td>\n",
       "      <td>0.66</td>\n",
       "    </tr>\n",
       "    <tr>\n",
       "      <th>214093</th>\n",
       "      <td>-1.0</td>\n",
       "      <td>1895.0</td>\n",
       "      <td>1</td>\n",
       "      <td>32.711046</td>\n",
       "      <td>-97.330033</td>\n",
       "      <td>0.0</td>\n",
       "      <td>0</td>\n",
       "      <td>0</td>\n",
       "      <td>0</td>\n",
       "      <td>0</td>\n",
       "      <td>0</td>\n",
       "      <td>1</td>\n",
       "      <td>0</td>\n",
       "      <td>0</td>\n",
       "      <td>48</td>\n",
       "      <td>1921</td>\n",
       "      <td>0</td>\n",
       "      <td>5.00</td>\n",
       "      <td>3.0</td>\n",
       "      <td>1.27</td>\n",
       "    </tr>\n",
       "    <tr>\n",
       "      <th>214094</th>\n",
       "      <td>3.0</td>\n",
       "      <td>1152.0</td>\n",
       "      <td>3</td>\n",
       "      <td>40.690838</td>\n",
       "      <td>-73.727628</td>\n",
       "      <td>0.0</td>\n",
       "      <td>0</td>\n",
       "      <td>0</td>\n",
       "      <td>0</td>\n",
       "      <td>0</td>\n",
       "      <td>0</td>\n",
       "      <td>1</td>\n",
       "      <td>0</td>\n",
       "      <td>0</td>\n",
       "      <td>36</td>\n",
       "      <td>1950</td>\n",
       "      <td>1950</td>\n",
       "      <td>0.45</td>\n",
       "      <td>2.0</td>\n",
       "      <td>0.60</td>\n",
       "    </tr>\n",
       "  </tbody>\n",
       "</table>\n",
       "<p>214095 rows × 20 columns</p>\n",
       "</div>"
      ],
      "text/plain": [
       "        baths    sqft  beds        lat         lon  pool  property_type_condo  \\\n",
       "0         3.5  2900.0     4  35.627887  -77.335173   0.0                    0   \n",
       "1         3.0  1947.0     3  47.699482 -117.190979   0.0                    0   \n",
       "2         2.0  3000.0     3  33.943243 -117.376310   1.0                    0   \n",
       "3         8.0  6457.0     5  32.702323  -97.347071   0.0                    0   \n",
       "4        -1.0    -1.0     1  27.041567  -82.136146   0.0                    0   \n",
       "...       ...     ...   ...        ...         ...   ...                  ...   \n",
       "214090    3.0  2505.0     5  41.456416  -81.836809   0.0                    0   \n",
       "214091   -1.0   950.0     2  29.441120  -98.487583   1.0                    0   \n",
       "214092    3.0  1792.0     4  29.826059  -95.531518   0.0                    0   \n",
       "214093   -1.0  1895.0     1  32.711046  -97.330033   0.0                    0   \n",
       "214094    3.0  1152.0     3  40.690838  -73.727628   0.0                    0   \n",
       "\n",
       "        property_type_land  property_type_multi_family  property_type_other  \\\n",
       "0                        0                           0                    0   \n",
       "1                        0                           0                    0   \n",
       "2                        0                           0                    0   \n",
       "3                        0                           0                    0   \n",
       "4                        1                           0                    0   \n",
       "...                    ...                         ...                  ...   \n",
       "214090                   0                           0                    0   \n",
       "214091                   0                           0                    0   \n",
       "214092                   0                           0                    0   \n",
       "214093                   0                           0                    0   \n",
       "214094                   0                           0                    0   \n",
       "\n",
       "        property_type_ranch  property_type_single_family  \\\n",
       "0                         0                            1   \n",
       "1                         0                            1   \n",
       "2                         0                            1   \n",
       "3                         0                            1   \n",
       "4                         0                            0   \n",
       "...                     ...                          ...   \n",
       "214090                    0                            1   \n",
       "214091                    0                            1   \n",
       "214092                    0                            1   \n",
       "214093                    0                            1   \n",
       "214094                    0                            1   \n",
       "\n",
       "        property_type_townhouse  property_type_traditional  state  year_built  \\\n",
       "0                             0                          0     37        2019   \n",
       "1                             0                          0     53        2019   \n",
       "2                             0                          0      6        1961   \n",
       "3                             0                          0     48        2006   \n",
       "4                             0                          0     12           0   \n",
       "...                         ...                        ...    ...         ...   \n",
       "214090                        0                          0     39        1950   \n",
       "214091                        0                          0     48        1938   \n",
       "214092                        0                          0     48        1970   \n",
       "214093                        0                          0     48        1921   \n",
       "214094                        0                          0     36        1950   \n",
       "\n",
       "        remodeled_year  avg_school_rating  schools_qty  avg_school_dist  \n",
       "0                    0               3.25          8.0             5.54  \n",
       "1                    0               0.27          3.0             1.33  \n",
       "2                 1967               0.67          3.0             1.96  \n",
       "3                 2006               0.92          4.0             0.75  \n",
       "4                    0               0.47          3.0             4.08  \n",
       "...                ...                ...          ...              ...  \n",
       "214090            2010               0.57          3.0             1.42  \n",
       "214091            1980               0.40          3.0             1.31  \n",
       "214092            1970               0.27          3.0             0.66  \n",
       "214093               0               5.00          3.0             1.27  \n",
       "214094            1950               0.45          2.0             0.60  \n",
       "\n",
       "[214095 rows x 20 columns]"
      ]
     },
     "execution_count": 6,
     "metadata": {},
     "output_type": "execute_result"
    }
   ],
   "source": [
    "X"
   ]
  },
  {
   "cell_type": "code",
   "execution_count": 7,
   "metadata": {},
   "outputs": [
    {
     "data": {
      "text/plain": [
       "pool\n",
       "0.0    192112\n",
       "1.0     21983\n",
       "Name: count, dtype: int64"
      ]
     },
     "execution_count": 7,
     "metadata": {},
     "output_type": "execute_result"
    }
   ],
   "source": [
    "X['pool'].value_counts()"
   ]
  },
  {
   "cell_type": "code",
   "execution_count": 17,
   "metadata": {},
   "outputs": [
    {
     "data": {
      "application/vnd.jupyter.widget-view+json": {
       "model_id": "8134d25c586e420c83dcad95eeeeb63c",
       "version_major": 2,
       "version_minor": 0
      },
      "text/plain": [
       "VBox(children=(Label(value='Waiting for wandb.init()...\\r'), FloatProgress(value=0.011115564022232623, max=1.0…"
      ]
     },
     "metadata": {},
     "output_type": "display_data"
    },
    {
     "data": {
      "text/html": [
       "Tracking run with wandb version 0.16.5"
      ],
      "text/plain": [
       "<IPython.core.display.HTML object>"
      ]
     },
     "metadata": {},
     "output_type": "display_data"
    },
    {
     "data": {
      "text/html": [
       "Run data is saved locally in <code>/home/dwarf/diplom/wandb/run-20240601_061044-p0et58jg</code>"
      ],
      "text/plain": [
       "<IPython.core.display.HTML object>"
      ]
     },
     "metadata": {},
     "output_type": "display_data"
    },
    {
     "data": {
      "text/html": [
       "Syncing run <strong><a href='https://wandb.ai/nikgorby/diplom_0106/runs/p0et58jg/workspace' target=\"_blank\">knn_run</a></strong> to <a href='https://wandb.ai/nikgorby/diplom_0106' target=\"_blank\">Weights & Biases</a> (<a href='https://wandb.me/run' target=\"_blank\">docs</a>)<br/>"
      ],
      "text/plain": [
       "<IPython.core.display.HTML object>"
      ]
     },
     "metadata": {},
     "output_type": "display_data"
    },
    {
     "data": {
      "text/html": [
       " View project at <a href='https://wandb.ai/nikgorby/diplom_0106' target=\"_blank\">https://wandb.ai/nikgorby/diplom_0106</a>"
      ],
      "text/plain": [
       "<IPython.core.display.HTML object>"
      ]
     },
     "metadata": {},
     "output_type": "display_data"
    },
    {
     "data": {
      "text/html": [
       " View run at <a href='https://wandb.ai/nikgorby/diplom_0106/runs/p0et58jg/workspace' target=\"_blank\">https://wandb.ai/nikgorby/diplom_0106/runs/p0et58jg/workspace</a>"
      ],
      "text/plain": [
       "<IPython.core.display.HTML object>"
      ]
     },
     "metadata": {},
     "output_type": "display_data"
    },
    {
     "name": "stdout",
     "output_type": "stream",
     "text": [
      "Средняя абсолютная ошибка (MAE): 360135.0614057623\n",
      "Среднеквадратичная ошибка (MSE): 2488104864469.8564\n",
      "Коэффициент детерминации (R²): 0.2843671475912545\n"
     ]
    },
    {
     "data": {
      "application/vnd.jupyter.widget-view+json": {
       "model_id": "9d86bb37fa2742039fb118b1ab63e204",
       "version_major": 2,
       "version_minor": 0
      },
      "text/plain": [
       "VBox(children=(Label(value='1.377 MB of 27.445 MB uploaded\\r'), FloatProgress(value=0.05018507600394563, max=1…"
      ]
     },
     "metadata": {},
     "output_type": "display_data"
    },
    {
     "data": {
      "text/html": [
       "<style>\n",
       "    table.wandb td:nth-child(1) { padding: 0 10px; text-align: left ; width: auto;} td:nth-child(2) {text-align: left ; width: 100%}\n",
       "    .wandb-row { display: flex; flex-direction: row; flex-wrap: wrap; justify-content: flex-start; width: 100% }\n",
       "    .wandb-col { display: flex; flex-direction: column; flex-basis: 100%; flex: 1; padding: 10px; }\n",
       "    </style>\n",
       "<div class=\"wandb-row\"><div class=\"wandb-col\"><h3>Run history:</h3><br/><table class=\"wandb\"><tr><td>MAE</td><td>▁</td></tr><tr><td>MSE</td><td>▁</td></tr><tr><td>R2</td><td>▁</td></tr></table><br/></div><div class=\"wandb-col\"><h3>Run summary:</h3><br/><table class=\"wandb\"><tr><td>MAE</td><td>360135.06141</td></tr><tr><td>MSE</td><td>2488104864469.8564</td></tr><tr><td>R2</td><td>0.28437</td></tr></table><br/></div></div>"
      ],
      "text/plain": [
       "<IPython.core.display.HTML object>"
      ]
     },
     "metadata": {},
     "output_type": "display_data"
    },
    {
     "data": {
      "text/html": [
       " View run <strong style=\"color:#cdcd00\">knn_run</strong> at: <a href='https://wandb.ai/nikgorby/diplom_0106/runs/p0et58jg/workspace' target=\"_blank\">https://wandb.ai/nikgorby/diplom_0106/runs/p0et58jg/workspace</a><br/>Synced 6 W&B file(s), 0 media file(s), 0 artifact file(s) and 1 other file(s)"
      ],
      "text/plain": [
       "<IPython.core.display.HTML object>"
      ]
     },
     "metadata": {},
     "output_type": "display_data"
    },
    {
     "data": {
      "text/html": [
       "Find logs at: <code>./wandb/run-20240601_061044-p0et58jg/logs</code>"
      ],
      "text/plain": [
       "<IPython.core.display.HTML object>"
      ]
     },
     "metadata": {},
     "output_type": "display_data"
    }
   ],
   "source": [
    "with open('/home/dwarf/diplom/wandb.json', 'r') as f:\n",
    "  data = json.load(f)\n",
    "  os.environ['WANDB_API_KEY'] = data[\"key\"]\n",
    "\n",
    "wandb.login()\n",
    "run = wandb.init(entity=None, project=\"diplom_0106\", name = 'knn_run')\n",
    "\n",
    "# Разделяем на обучающий и тестовый наборы данных\n",
    "X_train, X_test, y_train, y_test = train_test_split(X, y, test_size=0.2, random_state=42)\n",
    "\n",
    "# Создаем модель k-NN с параметром k = 3\n",
    "model = KNeighborsRegressor(n_neighbors=3)\n",
    "\n",
    "# Обучаем модель на обучающем наборе данных\n",
    "model.fit(X_train, y_train)\n",
    "\n",
    "# Предсказываем стоимости на тестовом наборе данных\n",
    "y_pred = model.predict(X_test)\n",
    "\n",
    "# Рассчитываем метрики качества\n",
    "mae = mean_absolute_error(y_test, y_pred)\n",
    "mse = mean_squared_error(y_test, y_pred)\n",
    "r2 = r2_score(y_test, y_pred)\n",
    "\n",
    "# Логирование метрик в W&B\n",
    "wandb.log({\"MAE\": mae})\n",
    "wandb.log({\"MSE\": mse})\n",
    "wandb.log({\"R2\": r2})\n",
    "\n",
    "print(\"Средняя абсолютная ошибка (MAE):\", mae)\n",
    "print(\"Среднеквадратичная ошибка (MSE):\", mse)\n",
    "print(\"Коэффициент детерминации (R²):\", r2)\n",
    "\n",
    "# Сохранение модели\n",
    "model_filename = \"random_forest_model.pkl\"\n",
    "joblib.dump(model, model_filename)\n",
    "\n",
    "# Загрузка сохраненной модели в W&B\n",
    "wandb.save(model_filename)\n",
    "\n",
    "# Завершение сессии W&B\n",
    "wandb.finish()"
   ]
  },
  {
   "cell_type": "code",
   "execution_count": 8,
   "metadata": {},
   "outputs": [
    {
     "name": "stderr",
     "output_type": "stream",
     "text": [
      "Failed to detect the name of this notebook, you can set it manually with the WANDB_NOTEBOOK_NAME environment variable to enable code saving.\n",
      "\u001b[34m\u001b[1mwandb\u001b[0m: W&B API key is configured. Use \u001b[1m`wandb login --relogin`\u001b[0m to force relogin\n"
     ]
    },
    {
     "data": {
      "application/vnd.jupyter.widget-view+json": {
       "model_id": "b38bdedb82814a7c88a825ec620db689",
       "version_major": 2,
       "version_minor": 0
      },
      "text/plain": [
       "VBox(children=(Label(value='Waiting for wandb.init()...\\r'), FloatProgress(value=0.011114672600039436, max=1.0…"
      ]
     },
     "metadata": {},
     "output_type": "display_data"
    },
    {
     "data": {
      "text/html": [
       "Tracking run with wandb version 0.16.5"
      ],
      "text/plain": [
       "<IPython.core.display.HTML object>"
      ]
     },
     "metadata": {},
     "output_type": "display_data"
    },
    {
     "data": {
      "text/html": [
       "Run data is saved locally in <code>/home/dwarf/diplom/wandb/run-20240601_083250-3r4uirf3</code>"
      ],
      "text/plain": [
       "<IPython.core.display.HTML object>"
      ]
     },
     "metadata": {},
     "output_type": "display_data"
    },
    {
     "data": {
      "text/html": [
       "Syncing run <strong><a href='https://wandb.ai/nikgorby/diplom_temp/runs/3r4uirf3/workspace' target=\"_blank\">rand_for_reg est=200 depth=30</a></strong> to <a href='https://wandb.ai/nikgorby/diplom_temp' target=\"_blank\">Weights & Biases</a> (<a href='https://wandb.me/run' target=\"_blank\">docs</a>)<br/>"
      ],
      "text/plain": [
       "<IPython.core.display.HTML object>"
      ]
     },
     "metadata": {},
     "output_type": "display_data"
    },
    {
     "data": {
      "text/html": [
       " View project at <a href='https://wandb.ai/nikgorby/diplom_temp' target=\"_blank\">https://wandb.ai/nikgorby/diplom_temp</a>"
      ],
      "text/plain": [
       "<IPython.core.display.HTML object>"
      ]
     },
     "metadata": {},
     "output_type": "display_data"
    },
    {
     "data": {
      "text/html": [
       " View run at <a href='https://wandb.ai/nikgorby/diplom_temp/runs/3r4uirf3/workspace' target=\"_blank\">https://wandb.ai/nikgorby/diplom_temp/runs/3r4uirf3/workspace</a>"
      ],
      "text/plain": [
       "<IPython.core.display.HTML object>"
      ]
     },
     "metadata": {},
     "output_type": "display_data"
    },
    {
     "data": {
      "application/vnd.jupyter.widget-view+json": {
       "model_id": "be94a092a32a4da4882810d106378171",
       "version_major": 2,
       "version_minor": 0
      },
      "text/plain": [
       "VBox(children=(Label(value='0.002 MB of 0.002 MB uploaded\\r'), FloatProgress(value=1.0, max=1.0)))"
      ]
     },
     "metadata": {},
     "output_type": "display_data"
    },
    {
     "data": {
      "text/html": [
       "<style>\n",
       "    table.wandb td:nth-child(1) { padding: 0 10px; text-align: left ; width: auto;} td:nth-child(2) {text-align: left ; width: 100%}\n",
       "    .wandb-row { display: flex; flex-direction: row; flex-wrap: wrap; justify-content: flex-start; width: 100% }\n",
       "    .wandb-col { display: flex; flex-direction: column; flex-basis: 100%; flex: 1; padding: 10px; }\n",
       "    </style>\n",
       "<div class=\"wandb-row\"><div class=\"wandb-col\"><h3>Run history:</h3><br/><table class=\"wandb\"><tr><td>MAE</td><td>▁</td></tr><tr><td>MSE</td><td>▁</td></tr><tr><td>R2</td><td>▁</td></tr></table><br/></div><div class=\"wandb-col\"><h3>Run summary:</h3><br/><table class=\"wandb\"><tr><td>MAE</td><td>231310.62979</td></tr><tr><td>MSE</td><td>1171932668495.9392</td></tr><tr><td>R2</td><td>0.66428</td></tr></table><br/></div></div>"
      ],
      "text/plain": [
       "<IPython.core.display.HTML object>"
      ]
     },
     "metadata": {},
     "output_type": "display_data"
    },
    {
     "data": {
      "text/html": [
       " View run <strong style=\"color:#cdcd00\">rand_for_reg est=200 depth=30</strong> at: <a href='https://wandb.ai/nikgorby/diplom_temp/runs/3r4uirf3/workspace' target=\"_blank\">https://wandb.ai/nikgorby/diplom_temp/runs/3r4uirf3/workspace</a><br/>Synced 5 W&B file(s), 0 media file(s), 0 artifact file(s) and 1 other file(s)"
      ],
      "text/plain": [
       "<IPython.core.display.HTML object>"
      ]
     },
     "metadata": {},
     "output_type": "display_data"
    },
    {
     "data": {
      "text/html": [
       "Find logs at: <code>./wandb/run-20240601_083250-3r4uirf3/logs</code>"
      ],
      "text/plain": [
       "<IPython.core.display.HTML object>"
      ]
     },
     "metadata": {},
     "output_type": "display_data"
    }
   ],
   "source": [
    "X_train, X_test, y_train, y_test = train_test_split(X, y, test_size=0.3, random_state=42)\n",
    "\n",
    "with open('/home/dwarf/diplom/wandb.json', 'r') as f:\n",
    "  data = json.load(f)\n",
    "  os.environ['WANDB_API_KEY'] = data[\"key\"]\n",
    "\n",
    "wandb.login()\n",
    "\n",
    "# n_estimators = [50, 100, 150, 200]\n",
    "n_estimators = [200]\n",
    "# max_depths = [5, 10, 15, 20, 25, 30]\n",
    "max_depths = [30]\n",
    "\n",
    "for estimators in n_estimators:\n",
    "    for depth in max_depths:\n",
    "      run = wandb.init(entity=None, project=\"diplom_temp\", name = f'rand_for_reg est={estimators} depth={depth}')\n",
    "\n",
    "      # Создание и обучение модели случайного леса для регрессии\n",
    "      model = RandomForestRegressor(n_estimators=estimators, max_depth=depth, random_state=42)\n",
    "\n",
    "      model.fit(X_train, y_train)\n",
    "\n",
    "      # Предсказание на тестовой выборке\n",
    "      y_pred = model.predict(X_test)\n",
    "\n",
    "      # Рассчитываем метрики качества\n",
    "      mae = mean_absolute_error(y_test, y_pred)\n",
    "      mse = mean_squared_error(y_test, y_pred)\n",
    "      r2 = r2_score(y_test, y_pred)\n",
    "\n",
    "      # Логирование метрик в W&B\n",
    "      wandb.log({\"MAE\": mae})\n",
    "      wandb.log({\"MSE\": mse})\n",
    "      wandb.log({\"R2\": r2})   \n",
    "\n",
    "      # Сохранение модели\n",
    "      model_filename = \"random_forest_model.pkl\"\n",
    "      joblib.dump(model, model_filename)\n",
    "\n",
    "      # Загрузка сохраненной модели в W&B\n",
    "      wandb.save(model_filename)\n",
    "\n",
    "# Завершение сессии W&B\n",
    "wandb.finish()\n",
    "# print(\"Средняя абсолютная ошибка (MAE):\", mae)\n",
    "# print(\"Среднеквадратичная ошибка (MSE):\", mse)\n",
    "# print(\"Коэффициент детерминации (R²):\", r2)\n",
    "\n",
    "\n"
   ]
  },
  {
   "cell_type": "code",
   "execution_count": 19,
   "metadata": {},
   "outputs": [
    {
     "data": {
      "application/vnd.jupyter.widget-view+json": {
       "model_id": "bdd6b891a1854d99995e6286db75994c",
       "version_major": 2,
       "version_minor": 0
      },
      "text/plain": [
       "VBox(children=(Label(value='Waiting for wandb.init()...\\r'), FloatProgress(value=0.011113641689007636, max=1.0…"
      ]
     },
     "metadata": {},
     "output_type": "display_data"
    },
    {
     "data": {
      "text/html": [
       "Tracking run with wandb version 0.16.5"
      ],
      "text/plain": [
       "<IPython.core.display.HTML object>"
      ]
     },
     "metadata": {},
     "output_type": "display_data"
    },
    {
     "data": {
      "text/html": [
       "Run data is saved locally in <code>/home/dwarf/diplom/wandb/run-20240601_080313-60r62br0</code>"
      ],
      "text/plain": [
       "<IPython.core.display.HTML object>"
      ]
     },
     "metadata": {},
     "output_type": "display_data"
    },
    {
     "data": {
      "text/html": [
       "Syncing run <strong><a href='https://wandb.ai/nikgorby/diplom_0106/runs/60r62br0/workspace' target=\"_blank\">linear_regression</a></strong> to <a href='https://wandb.ai/nikgorby/diplom_0106' target=\"_blank\">Weights & Biases</a> (<a href='https://wandb.me/run' target=\"_blank\">docs</a>)<br/>"
      ],
      "text/plain": [
       "<IPython.core.display.HTML object>"
      ]
     },
     "metadata": {},
     "output_type": "display_data"
    },
    {
     "data": {
      "text/html": [
       " View project at <a href='https://wandb.ai/nikgorby/diplom_0106' target=\"_blank\">https://wandb.ai/nikgorby/diplom_0106</a>"
      ],
      "text/plain": [
       "<IPython.core.display.HTML object>"
      ]
     },
     "metadata": {},
     "output_type": "display_data"
    },
    {
     "data": {
      "text/html": [
       " View run at <a href='https://wandb.ai/nikgorby/diplom_0106/runs/60r62br0/workspace' target=\"_blank\">https://wandb.ai/nikgorby/diplom_0106/runs/60r62br0/workspace</a>"
      ],
      "text/plain": [
       "<IPython.core.display.HTML object>"
      ]
     },
     "metadata": {},
     "output_type": "display_data"
    },
    {
     "data": {
      "application/vnd.jupyter.widget-view+json": {
       "model_id": "7a50cf5b34b44cbabf4445033c92635d",
       "version_major": 2,
       "version_minor": 0
      },
      "text/plain": [
       "VBox(children=(Label(value='0.005 MB of 0.005 MB uploaded\\r'), FloatProgress(value=1.0, max=1.0)))"
      ]
     },
     "metadata": {},
     "output_type": "display_data"
    },
    {
     "data": {
      "text/html": [
       "<style>\n",
       "    table.wandb td:nth-child(1) { padding: 0 10px; text-align: left ; width: auto;} td:nth-child(2) {text-align: left ; width: 100%}\n",
       "    .wandb-row { display: flex; flex-direction: row; flex-wrap: wrap; justify-content: flex-start; width: 100% }\n",
       "    .wandb-col { display: flex; flex-direction: column; flex-basis: 100%; flex: 1; padding: 10px; }\n",
       "    </style>\n",
       "<div class=\"wandb-row\"><div class=\"wandb-col\"><h3>Run history:</h3><br/><table class=\"wandb\"><tr><td>MAE</td><td>▁</td></tr><tr><td>MSE</td><td>▁</td></tr><tr><td>R2</td><td>▁</td></tr></table><br/></div><div class=\"wandb-col\"><h3>Run summary:</h3><br/><table class=\"wandb\"><tr><td>MAE</td><td>523987.62706</td></tr><tr><td>MSE</td><td>3227900474666.3013</td></tr><tr><td>R2</td><td>0.07159</td></tr></table><br/></div></div>"
      ],
      "text/plain": [
       "<IPython.core.display.HTML object>"
      ]
     },
     "metadata": {},
     "output_type": "display_data"
    },
    {
     "data": {
      "text/html": [
       " View run <strong style=\"color:#cdcd00\">linear_regression</strong> at: <a href='https://wandb.ai/nikgorby/diplom_0106/runs/60r62br0/workspace' target=\"_blank\">https://wandb.ai/nikgorby/diplom_0106/runs/60r62br0/workspace</a><br/>Synced 5 W&B file(s), 0 media file(s), 0 artifact file(s) and 2 other file(s)"
      ],
      "text/plain": [
       "<IPython.core.display.HTML object>"
      ]
     },
     "metadata": {},
     "output_type": "display_data"
    },
    {
     "data": {
      "text/html": [
       "Find logs at: <code>./wandb/run-20240601_080313-60r62br0/logs</code>"
      ],
      "text/plain": [
       "<IPython.core.display.HTML object>"
      ]
     },
     "metadata": {},
     "output_type": "display_data"
    }
   ],
   "source": [
    "with open('/home/dwarf/diplom/wandb.json', 'r') as f:\n",
    "  data = json.load(f)\n",
    "  os.environ['WANDB_API_KEY'] = data[\"key\"]\n",
    "\n",
    "wandb.login()\n",
    "\n",
    "run = wandb.init(entity=None, project=\"diplom_0106\", name = f'linear_regression')\n",
    "\n",
    "scaler = MinMaxScaler()\n",
    "\n",
    "X_scaled = scaler.fit_transform(X)\n",
    "X_train, X_test, y_train, y_test = train_test_split(X_scaled, y, test_size=0.2, random_state=42)\n",
    "\n",
    "model = LinearRegression()\n",
    "model.fit(X_train, y_train)\n",
    "\n",
    "# Предсказание на тестовом наборе\n",
    "y_pred = model.predict(X_test)\n",
    "\n",
    "# Рассчитываем метрики качества\n",
    "mae = mean_absolute_error(y_test, y_pred)\n",
    "mse = mean_squared_error(y_test, y_pred)\n",
    "r2 = r2_score(y_test, y_pred)\n",
    "\n",
    "# Логирование метрик в W&B\n",
    "wandb.log({\"MAE\": mae})\n",
    "wandb.log({\"MSE\": mse})\n",
    "wandb.log({\"R2\": r2})   \n",
    "\n",
    "# Сохранение модели\n",
    "model_filename = \"linear_regerssion.pkl\"\n",
    "joblib.dump(model, model_filename)\n",
    "scaler_filename = 'min_max_scaler.pkl'\n",
    "joblib.dump(scaler, scaler_filename)\n",
    "\n",
    "# Загрузка сохраненной модели в W&B\n",
    "wandb.save(model_filename)\n",
    "wandb.save(scaler_filename)\n",
    "\n",
    "# Завершение сессии W&B\n",
    "wandb.finish()"
   ]
  },
  {
   "cell_type": "code",
   "execution_count": 20,
   "metadata": {},
   "outputs": [
    {
     "data": {
      "application/vnd.jupyter.widget-view+json": {
       "model_id": "5179b59320be4faba009c85e122bf8f4",
       "version_major": 2,
       "version_minor": 0
      },
      "text/plain": [
       "VBox(children=(Label(value='Waiting for wandb.init()...\\r'), FloatProgress(value=0.011113748766688837, max=1.0…"
      ]
     },
     "metadata": {},
     "output_type": "display_data"
    },
    {
     "data": {
      "text/html": [
       "Tracking run with wandb version 0.16.5"
      ],
      "text/plain": [
       "<IPython.core.display.HTML object>"
      ]
     },
     "metadata": {},
     "output_type": "display_data"
    },
    {
     "data": {
      "text/html": [
       "Run data is saved locally in <code>/home/dwarf/diplom/wandb/run-20240601_080354-yij29o5r</code>"
      ],
      "text/plain": [
       "<IPython.core.display.HTML object>"
      ]
     },
     "metadata": {},
     "output_type": "display_data"
    },
    {
     "data": {
      "text/html": [
       "Syncing run <strong><a href='https://wandb.ai/nikgorby/diplom_0106/runs/yij29o5r/workspace' target=\"_blank\">Decision Tree depth=5</a></strong> to <a href='https://wandb.ai/nikgorby/diplom_0106' target=\"_blank\">Weights & Biases</a> (<a href='https://wandb.me/run' target=\"_blank\">docs</a>)<br/>"
      ],
      "text/plain": [
       "<IPython.core.display.HTML object>"
      ]
     },
     "metadata": {},
     "output_type": "display_data"
    },
    {
     "data": {
      "text/html": [
       " View project at <a href='https://wandb.ai/nikgorby/diplom_0106' target=\"_blank\">https://wandb.ai/nikgorby/diplom_0106</a>"
      ],
      "text/plain": [
       "<IPython.core.display.HTML object>"
      ]
     },
     "metadata": {},
     "output_type": "display_data"
    },
    {
     "data": {
      "text/html": [
       " View run at <a href='https://wandb.ai/nikgorby/diplom_0106/runs/yij29o5r/workspace' target=\"_blank\">https://wandb.ai/nikgorby/diplom_0106/runs/yij29o5r/workspace</a>"
      ],
      "text/plain": [
       "<IPython.core.display.HTML object>"
      ]
     },
     "metadata": {},
     "output_type": "display_data"
    },
    {
     "data": {
      "text/html": [
       "Finishing last run (ID:yij29o5r) before initializing another..."
      ],
      "text/plain": [
       "<IPython.core.display.HTML object>"
      ]
     },
     "metadata": {},
     "output_type": "display_data"
    },
    {
     "data": {
      "application/vnd.jupyter.widget-view+json": {
       "model_id": "b69d6aa2b2f2488d9cb1e20ecd130877",
       "version_major": 2,
       "version_minor": 0
      },
      "text/plain": [
       "VBox(children=(Label(value='0.338 MB of 21.296 MB uploaded\\r'), FloatProgress(value=0.015884190801419916, max=…"
      ]
     },
     "metadata": {},
     "output_type": "display_data"
    },
    {
     "data": {
      "text/html": [
       "<style>\n",
       "    table.wandb td:nth-child(1) { padding: 0 10px; text-align: left ; width: auto;} td:nth-child(2) {text-align: left ; width: 100%}\n",
       "    .wandb-row { display: flex; flex-direction: row; flex-wrap: wrap; justify-content: flex-start; width: 100% }\n",
       "    .wandb-col { display: flex; flex-direction: column; flex-basis: 100%; flex: 1; padding: 10px; }\n",
       "    </style>\n",
       "<div class=\"wandb-row\"><div class=\"wandb-col\"><h3>Run history:</h3><br/><table class=\"wandb\"><tr><td>MAE</td><td>▁</td></tr><tr><td>MSE</td><td>▁</td></tr><tr><td>R2</td><td>▁</td></tr></table><br/></div><div class=\"wandb-col\"><h3>Run summary:</h3><br/><table class=\"wandb\"><tr><td>MAE</td><td>290138.28793</td></tr><tr><td>MSE</td><td>2603351559236.6006</td></tr><tr><td>R2</td><td>0.23115</td></tr></table><br/></div></div>"
      ],
      "text/plain": [
       "<IPython.core.display.HTML object>"
      ]
     },
     "metadata": {},
     "output_type": "display_data"
    },
    {
     "data": {
      "text/html": [
       " View run <strong style=\"color:#cdcd00\">Decision Tree depth=5</strong> at: <a href='https://wandb.ai/nikgorby/diplom_0106/runs/yij29o5r/workspace' target=\"_blank\">https://wandb.ai/nikgorby/diplom_0106/runs/yij29o5r/workspace</a><br/>Synced 5 W&B file(s), 0 media file(s), 0 artifact file(s) and 1 other file(s)"
      ],
      "text/plain": [
       "<IPython.core.display.HTML object>"
      ]
     },
     "metadata": {},
     "output_type": "display_data"
    },
    {
     "data": {
      "text/html": [
       "Find logs at: <code>./wandb/run-20240601_080354-yij29o5r/logs</code>"
      ],
      "text/plain": [
       "<IPython.core.display.HTML object>"
      ]
     },
     "metadata": {},
     "output_type": "display_data"
    },
    {
     "data": {
      "text/html": [
       "Successfully finished last run (ID:yij29o5r). Initializing new run:<br/>"
      ],
      "text/plain": [
       "<IPython.core.display.HTML object>"
      ]
     },
     "metadata": {},
     "output_type": "display_data"
    },
    {
     "data": {
      "application/vnd.jupyter.widget-view+json": {
       "model_id": "8516de5f6316424ca9ac51c9775ebadd",
       "version_major": 2,
       "version_minor": 0
      },
      "text/plain": [
       "VBox(children=(Label(value='Waiting for wandb.init()...\\r'), FloatProgress(value=0.0111136227666672, max=1.0))…"
      ]
     },
     "metadata": {},
     "output_type": "display_data"
    },
    {
     "data": {
      "text/html": [
       "Tracking run with wandb version 0.16.5"
      ],
      "text/plain": [
       "<IPython.core.display.HTML object>"
      ]
     },
     "metadata": {},
     "output_type": "display_data"
    },
    {
     "data": {
      "text/html": [
       "Run data is saved locally in <code>/home/dwarf/diplom/wandb/run-20240601_080425-p11q08tt</code>"
      ],
      "text/plain": [
       "<IPython.core.display.HTML object>"
      ]
     },
     "metadata": {},
     "output_type": "display_data"
    },
    {
     "data": {
      "text/html": [
       "Syncing run <strong><a href='https://wandb.ai/nikgorby/diplom_0106/runs/p11q08tt/workspace' target=\"_blank\">Decision Tree depth=10</a></strong> to <a href='https://wandb.ai/nikgorby/diplom_0106' target=\"_blank\">Weights & Biases</a> (<a href='https://wandb.me/run' target=\"_blank\">docs</a>)<br/>"
      ],
      "text/plain": [
       "<IPython.core.display.HTML object>"
      ]
     },
     "metadata": {},
     "output_type": "display_data"
    },
    {
     "data": {
      "text/html": [
       " View project at <a href='https://wandb.ai/nikgorby/diplom_0106' target=\"_blank\">https://wandb.ai/nikgorby/diplom_0106</a>"
      ],
      "text/plain": [
       "<IPython.core.display.HTML object>"
      ]
     },
     "metadata": {},
     "output_type": "display_data"
    },
    {
     "data": {
      "text/html": [
       " View run at <a href='https://wandb.ai/nikgorby/diplom_0106/runs/p11q08tt/workspace' target=\"_blank\">https://wandb.ai/nikgorby/diplom_0106/runs/p11q08tt/workspace</a>"
      ],
      "text/plain": [
       "<IPython.core.display.HTML object>"
      ]
     },
     "metadata": {},
     "output_type": "display_data"
    },
    {
     "data": {
      "text/html": [
       "Finishing last run (ID:p11q08tt) before initializing another..."
      ],
      "text/plain": [
       "<IPython.core.display.HTML object>"
      ]
     },
     "metadata": {},
     "output_type": "display_data"
    },
    {
     "data": {
      "application/vnd.jupyter.widget-view+json": {
       "model_id": "e763f43e2d1649809ecd4ca7d4901353",
       "version_major": 2,
       "version_minor": 0
      },
      "text/plain": [
       "VBox(children=(Label(value='0.651 MB of 21.296 MB uploaded\\r'), FloatProgress(value=0.030558455574096866, max=…"
      ]
     },
     "metadata": {},
     "output_type": "display_data"
    },
    {
     "data": {
      "text/html": [
       "<style>\n",
       "    table.wandb td:nth-child(1) { padding: 0 10px; text-align: left ; width: auto;} td:nth-child(2) {text-align: left ; width: 100%}\n",
       "    .wandb-row { display: flex; flex-direction: row; flex-wrap: wrap; justify-content: flex-start; width: 100% }\n",
       "    .wandb-col { display: flex; flex-direction: column; flex-basis: 100%; flex: 1; padding: 10px; }\n",
       "    </style>\n",
       "<div class=\"wandb-row\"><div class=\"wandb-col\"><h3>Run history:</h3><br/><table class=\"wandb\"><tr><td>MAE</td><td>▁</td></tr><tr><td>MSE</td><td>▁</td></tr><tr><td>R2</td><td>▁</td></tr></table><br/></div><div class=\"wandb-col\"><h3>Run summary:</h3><br/><table class=\"wandb\"><tr><td>MAE</td><td>290138.28793</td></tr><tr><td>MSE</td><td>2603351559236.6006</td></tr><tr><td>R2</td><td>0.23115</td></tr></table><br/></div></div>"
      ],
      "text/plain": [
       "<IPython.core.display.HTML object>"
      ]
     },
     "metadata": {},
     "output_type": "display_data"
    },
    {
     "data": {
      "text/html": [
       " View run <strong style=\"color:#cdcd00\">Decision Tree depth=10</strong> at: <a href='https://wandb.ai/nikgorby/diplom_0106/runs/p11q08tt/workspace' target=\"_blank\">https://wandb.ai/nikgorby/diplom_0106/runs/p11q08tt/workspace</a><br/>Synced 5 W&B file(s), 0 media file(s), 0 artifact file(s) and 1 other file(s)"
      ],
      "text/plain": [
       "<IPython.core.display.HTML object>"
      ]
     },
     "metadata": {},
     "output_type": "display_data"
    },
    {
     "data": {
      "text/html": [
       "Find logs at: <code>./wandb/run-20240601_080425-p11q08tt/logs</code>"
      ],
      "text/plain": [
       "<IPython.core.display.HTML object>"
      ]
     },
     "metadata": {},
     "output_type": "display_data"
    },
    {
     "data": {
      "text/html": [
       "Successfully finished last run (ID:p11q08tt). Initializing new run:<br/>"
      ],
      "text/plain": [
       "<IPython.core.display.HTML object>"
      ]
     },
     "metadata": {},
     "output_type": "display_data"
    },
    {
     "data": {
      "application/vnd.jupyter.widget-view+json": {
       "model_id": "b7da144958db46f3aa45465f00718672",
       "version_major": 2,
       "version_minor": 0
      },
      "text/plain": [
       "VBox(children=(Label(value='Waiting for wandb.init()...\\r'), FloatProgress(value=0.011113966455579632, max=1.0…"
      ]
     },
     "metadata": {},
     "output_type": "display_data"
    },
    {
     "data": {
      "text/html": [
       "Tracking run with wandb version 0.16.5"
      ],
      "text/plain": [
       "<IPython.core.display.HTML object>"
      ]
     },
     "metadata": {},
     "output_type": "display_data"
    },
    {
     "data": {
      "text/html": [
       "Run data is saved locally in <code>/home/dwarf/diplom/wandb/run-20240601_080514-39hwesl8</code>"
      ],
      "text/plain": [
       "<IPython.core.display.HTML object>"
      ]
     },
     "metadata": {},
     "output_type": "display_data"
    },
    {
     "data": {
      "text/html": [
       "Syncing run <strong><a href='https://wandb.ai/nikgorby/diplom_0106/runs/39hwesl8/workspace' target=\"_blank\">Decision Tree depth=15</a></strong> to <a href='https://wandb.ai/nikgorby/diplom_0106' target=\"_blank\">Weights & Biases</a> (<a href='https://wandb.me/run' target=\"_blank\">docs</a>)<br/>"
      ],
      "text/plain": [
       "<IPython.core.display.HTML object>"
      ]
     },
     "metadata": {},
     "output_type": "display_data"
    },
    {
     "data": {
      "text/html": [
       " View project at <a href='https://wandb.ai/nikgorby/diplom_0106' target=\"_blank\">https://wandb.ai/nikgorby/diplom_0106</a>"
      ],
      "text/plain": [
       "<IPython.core.display.HTML object>"
      ]
     },
     "metadata": {},
     "output_type": "display_data"
    },
    {
     "data": {
      "text/html": [
       " View run at <a href='https://wandb.ai/nikgorby/diplom_0106/runs/39hwesl8/workspace' target=\"_blank\">https://wandb.ai/nikgorby/diplom_0106/runs/39hwesl8/workspace</a>"
      ],
      "text/plain": [
       "<IPython.core.display.HTML object>"
      ]
     },
     "metadata": {},
     "output_type": "display_data"
    },
    {
     "data": {
      "text/html": [
       "Finishing last run (ID:39hwesl8) before initializing another..."
      ],
      "text/plain": [
       "<IPython.core.display.HTML object>"
      ]
     },
     "metadata": {},
     "output_type": "display_data"
    },
    {
     "data": {
      "application/vnd.jupyter.widget-view+json": {
       "model_id": "fd35ad623cea46d592dde763076a202e",
       "version_major": 2,
       "version_minor": 0
      },
      "text/plain": [
       "VBox(children=(Label(value='0.000 MB of 21.296 MB uploaded\\r'), FloatProgress(value=0.0, max=1.0)))"
      ]
     },
     "metadata": {},
     "output_type": "display_data"
    },
    {
     "data": {
      "text/html": [
       "<style>\n",
       "    table.wandb td:nth-child(1) { padding: 0 10px; text-align: left ; width: auto;} td:nth-child(2) {text-align: left ; width: 100%}\n",
       "    .wandb-row { display: flex; flex-direction: row; flex-wrap: wrap; justify-content: flex-start; width: 100% }\n",
       "    .wandb-col { display: flex; flex-direction: column; flex-basis: 100%; flex: 1; padding: 10px; }\n",
       "    </style>\n",
       "<div class=\"wandb-row\"><div class=\"wandb-col\"><h3>Run history:</h3><br/><table class=\"wandb\"><tr><td>MAE</td><td>▁</td></tr><tr><td>MSE</td><td>▁</td></tr><tr><td>R2</td><td>▁</td></tr></table><br/></div><div class=\"wandb-col\"><h3>Run summary:</h3><br/><table class=\"wandb\"><tr><td>MAE</td><td>290138.28793</td></tr><tr><td>MSE</td><td>2603351559236.6006</td></tr><tr><td>R2</td><td>0.23115</td></tr></table><br/></div></div>"
      ],
      "text/plain": [
       "<IPython.core.display.HTML object>"
      ]
     },
     "metadata": {},
     "output_type": "display_data"
    },
    {
     "data": {
      "text/html": [
       " View run <strong style=\"color:#cdcd00\">Decision Tree depth=15</strong> at: <a href='https://wandb.ai/nikgorby/diplom_0106/runs/39hwesl8/workspace' target=\"_blank\">https://wandb.ai/nikgorby/diplom_0106/runs/39hwesl8/workspace</a><br/>Synced 5 W&B file(s), 0 media file(s), 0 artifact file(s) and 1 other file(s)"
      ],
      "text/plain": [
       "<IPython.core.display.HTML object>"
      ]
     },
     "metadata": {},
     "output_type": "display_data"
    },
    {
     "data": {
      "text/html": [
       "Find logs at: <code>./wandb/run-20240601_080514-39hwesl8/logs</code>"
      ],
      "text/plain": [
       "<IPython.core.display.HTML object>"
      ]
     },
     "metadata": {},
     "output_type": "display_data"
    },
    {
     "data": {
      "text/html": [
       "Successfully finished last run (ID:39hwesl8). Initializing new run:<br/>"
      ],
      "text/plain": [
       "<IPython.core.display.HTML object>"
      ]
     },
     "metadata": {},
     "output_type": "display_data"
    },
    {
     "data": {
      "application/vnd.jupyter.widget-view+json": {
       "model_id": "59f9dcc6e27b4a1c96562d833c6b0d59",
       "version_major": 2,
       "version_minor": 0
      },
      "text/plain": [
       "VBox(children=(Label(value='Waiting for wandb.init()...\\r'), FloatProgress(value=0.011113993533298425, max=1.0…"
      ]
     },
     "metadata": {},
     "output_type": "display_data"
    },
    {
     "data": {
      "text/html": [
       "Tracking run with wandb version 0.16.5"
      ],
      "text/plain": [
       "<IPython.core.display.HTML object>"
      ]
     },
     "metadata": {},
     "output_type": "display_data"
    },
    {
     "data": {
      "text/html": [
       "Run data is saved locally in <code>/home/dwarf/diplom/wandb/run-20240601_080558-z1q72ts8</code>"
      ],
      "text/plain": [
       "<IPython.core.display.HTML object>"
      ]
     },
     "metadata": {},
     "output_type": "display_data"
    },
    {
     "data": {
      "text/html": [
       "Syncing run <strong><a href='https://wandb.ai/nikgorby/diplom_0106/runs/z1q72ts8/workspace' target=\"_blank\">Decision Tree depth=20</a></strong> to <a href='https://wandb.ai/nikgorby/diplom_0106' target=\"_blank\">Weights & Biases</a> (<a href='https://wandb.me/run' target=\"_blank\">docs</a>)<br/>"
      ],
      "text/plain": [
       "<IPython.core.display.HTML object>"
      ]
     },
     "metadata": {},
     "output_type": "display_data"
    },
    {
     "data": {
      "text/html": [
       " View project at <a href='https://wandb.ai/nikgorby/diplom_0106' target=\"_blank\">https://wandb.ai/nikgorby/diplom_0106</a>"
      ],
      "text/plain": [
       "<IPython.core.display.HTML object>"
      ]
     },
     "metadata": {},
     "output_type": "display_data"
    },
    {
     "data": {
      "text/html": [
       " View run at <a href='https://wandb.ai/nikgorby/diplom_0106/runs/z1q72ts8/workspace' target=\"_blank\">https://wandb.ai/nikgorby/diplom_0106/runs/z1q72ts8/workspace</a>"
      ],
      "text/plain": [
       "<IPython.core.display.HTML object>"
      ]
     },
     "metadata": {},
     "output_type": "display_data"
    },
    {
     "data": {
      "text/html": [
       "Finishing last run (ID:z1q72ts8) before initializing another..."
      ],
      "text/plain": [
       "<IPython.core.display.HTML object>"
      ]
     },
     "metadata": {},
     "output_type": "display_data"
    },
    {
     "data": {
      "application/vnd.jupyter.widget-view+json": {
       "model_id": "fd93c2f0d326417ebb76f35ee2d435d0",
       "version_major": 2,
       "version_minor": 0
      },
      "text/plain": [
       "VBox(children=(Label(value='4.776 MB of 21.301 MB uploaded\\r'), FloatProgress(value=0.22420814231466385, max=1…"
      ]
     },
     "metadata": {},
     "output_type": "display_data"
    },
    {
     "data": {
      "text/html": [
       "<style>\n",
       "    table.wandb td:nth-child(1) { padding: 0 10px; text-align: left ; width: auto;} td:nth-child(2) {text-align: left ; width: 100%}\n",
       "    .wandb-row { display: flex; flex-direction: row; flex-wrap: wrap; justify-content: flex-start; width: 100% }\n",
       "    .wandb-col { display: flex; flex-direction: column; flex-basis: 100%; flex: 1; padding: 10px; }\n",
       "    </style>\n",
       "<div class=\"wandb-row\"><div class=\"wandb-col\"><h3>Run history:</h3><br/><table class=\"wandb\"><tr><td>MAE</td><td>▁</td></tr><tr><td>MSE</td><td>▁</td></tr><tr><td>R2</td><td>▁</td></tr></table><br/></div><div class=\"wandb-col\"><h3>Run summary:</h3><br/><table class=\"wandb\"><tr><td>MAE</td><td>290138.28793</td></tr><tr><td>MSE</td><td>2603351559236.6006</td></tr><tr><td>R2</td><td>0.23115</td></tr></table><br/></div></div>"
      ],
      "text/plain": [
       "<IPython.core.display.HTML object>"
      ]
     },
     "metadata": {},
     "output_type": "display_data"
    },
    {
     "data": {
      "text/html": [
       " View run <strong style=\"color:#cdcd00\">Decision Tree depth=20</strong> at: <a href='https://wandb.ai/nikgorby/diplom_0106/runs/z1q72ts8/workspace' target=\"_blank\">https://wandb.ai/nikgorby/diplom_0106/runs/z1q72ts8/workspace</a><br/>Synced 4 W&B file(s), 0 media file(s), 0 artifact file(s) and 1 other file(s)"
      ],
      "text/plain": [
       "<IPython.core.display.HTML object>"
      ]
     },
     "metadata": {},
     "output_type": "display_data"
    },
    {
     "data": {
      "text/html": [
       "Find logs at: <code>./wandb/run-20240601_080558-z1q72ts8/logs</code>"
      ],
      "text/plain": [
       "<IPython.core.display.HTML object>"
      ]
     },
     "metadata": {},
     "output_type": "display_data"
    },
    {
     "data": {
      "text/html": [
       "Successfully finished last run (ID:z1q72ts8). Initializing new run:<br/>"
      ],
      "text/plain": [
       "<IPython.core.display.HTML object>"
      ]
     },
     "metadata": {},
     "output_type": "display_data"
    },
    {
     "data": {
      "application/vnd.jupyter.widget-view+json": {
       "model_id": "fe422eb5f1c440bfac7518f118f24f3b",
       "version_major": 2,
       "version_minor": 0
      },
      "text/plain": [
       "VBox(children=(Label(value='Waiting for wandb.init()...\\r'), FloatProgress(value=0.01111295681120181, max=1.0)…"
      ]
     },
     "metadata": {},
     "output_type": "display_data"
    },
    {
     "data": {
      "text/html": [
       "Tracking run with wandb version 0.16.5"
      ],
      "text/plain": [
       "<IPython.core.display.HTML object>"
      ]
     },
     "metadata": {},
     "output_type": "display_data"
    },
    {
     "data": {
      "text/html": [
       "Run data is saved locally in <code>/home/dwarf/diplom/wandb/run-20240601_080645-1xdy04ie</code>"
      ],
      "text/plain": [
       "<IPython.core.display.HTML object>"
      ]
     },
     "metadata": {},
     "output_type": "display_data"
    },
    {
     "data": {
      "text/html": [
       "Syncing run <strong><a href='https://wandb.ai/nikgorby/diplom_0106/runs/1xdy04ie/workspace' target=\"_blank\">Decision Tree depth=25</a></strong> to <a href='https://wandb.ai/nikgorby/diplom_0106' target=\"_blank\">Weights & Biases</a> (<a href='https://wandb.me/run' target=\"_blank\">docs</a>)<br/>"
      ],
      "text/plain": [
       "<IPython.core.display.HTML object>"
      ]
     },
     "metadata": {},
     "output_type": "display_data"
    },
    {
     "data": {
      "text/html": [
       " View project at <a href='https://wandb.ai/nikgorby/diplom_0106' target=\"_blank\">https://wandb.ai/nikgorby/diplom_0106</a>"
      ],
      "text/plain": [
       "<IPython.core.display.HTML object>"
      ]
     },
     "metadata": {},
     "output_type": "display_data"
    },
    {
     "data": {
      "text/html": [
       " View run at <a href='https://wandb.ai/nikgorby/diplom_0106/runs/1xdy04ie/workspace' target=\"_blank\">https://wandb.ai/nikgorby/diplom_0106/runs/1xdy04ie/workspace</a>"
      ],
      "text/plain": [
       "<IPython.core.display.HTML object>"
      ]
     },
     "metadata": {},
     "output_type": "display_data"
    },
    {
     "data": {
      "text/html": [
       "Finishing last run (ID:1xdy04ie) before initializing another..."
      ],
      "text/plain": [
       "<IPython.core.display.HTML object>"
      ]
     },
     "metadata": {},
     "output_type": "display_data"
    },
    {
     "data": {
      "application/vnd.jupyter.widget-view+json": {
       "model_id": "d8465807e9494c63a43dd23e8becc840",
       "version_major": 2,
       "version_minor": 0
      },
      "text/plain": [
       "VBox(children=(Label(value='1.213 MB of 21.296 MB uploaded\\r'), FloatProgress(value=0.05697201060656732, max=1…"
      ]
     },
     "metadata": {},
     "output_type": "display_data"
    },
    {
     "data": {
      "text/html": [
       "<style>\n",
       "    table.wandb td:nth-child(1) { padding: 0 10px; text-align: left ; width: auto;} td:nth-child(2) {text-align: left ; width: 100%}\n",
       "    .wandb-row { display: flex; flex-direction: row; flex-wrap: wrap; justify-content: flex-start; width: 100% }\n",
       "    .wandb-col { display: flex; flex-direction: column; flex-basis: 100%; flex: 1; padding: 10px; }\n",
       "    </style>\n",
       "<div class=\"wandb-row\"><div class=\"wandb-col\"><h3>Run history:</h3><br/><table class=\"wandb\"><tr><td>MAE</td><td>▁</td></tr><tr><td>MSE</td><td>▁</td></tr><tr><td>R2</td><td>▁</td></tr></table><br/></div><div class=\"wandb-col\"><h3>Run summary:</h3><br/><table class=\"wandb\"><tr><td>MAE</td><td>290138.28793</td></tr><tr><td>MSE</td><td>2603351559236.6006</td></tr><tr><td>R2</td><td>0.23115</td></tr></table><br/></div></div>"
      ],
      "text/plain": [
       "<IPython.core.display.HTML object>"
      ]
     },
     "metadata": {},
     "output_type": "display_data"
    },
    {
     "data": {
      "text/html": [
       " View run <strong style=\"color:#cdcd00\">Decision Tree depth=25</strong> at: <a href='https://wandb.ai/nikgorby/diplom_0106/runs/1xdy04ie/workspace' target=\"_blank\">https://wandb.ai/nikgorby/diplom_0106/runs/1xdy04ie/workspace</a><br/>Synced 5 W&B file(s), 0 media file(s), 0 artifact file(s) and 1 other file(s)"
      ],
      "text/plain": [
       "<IPython.core.display.HTML object>"
      ]
     },
     "metadata": {},
     "output_type": "display_data"
    },
    {
     "data": {
      "text/html": [
       "Find logs at: <code>./wandb/run-20240601_080645-1xdy04ie/logs</code>"
      ],
      "text/plain": [
       "<IPython.core.display.HTML object>"
      ]
     },
     "metadata": {},
     "output_type": "display_data"
    },
    {
     "data": {
      "text/html": [
       "Successfully finished last run (ID:1xdy04ie). Initializing new run:<br/>"
      ],
      "text/plain": [
       "<IPython.core.display.HTML object>"
      ]
     },
     "metadata": {},
     "output_type": "display_data"
    },
    {
     "data": {
      "application/vnd.jupyter.widget-view+json": {
       "model_id": "7d5df1ad85804f8190a4b05effde78fa",
       "version_major": 2,
       "version_minor": 0
      },
      "text/plain": [
       "VBox(children=(Label(value='Waiting for wandb.init()...\\r'), FloatProgress(value=0.011114522722265166, max=1.0…"
      ]
     },
     "metadata": {},
     "output_type": "display_data"
    },
    {
     "data": {
      "text/html": [
       "Tracking run with wandb version 0.16.5"
      ],
      "text/plain": [
       "<IPython.core.display.HTML object>"
      ]
     },
     "metadata": {},
     "output_type": "display_data"
    },
    {
     "data": {
      "text/html": [
       "Run data is saved locally in <code>/home/dwarf/diplom/wandb/run-20240601_080724-4zndz312</code>"
      ],
      "text/plain": [
       "<IPython.core.display.HTML object>"
      ]
     },
     "metadata": {},
     "output_type": "display_data"
    },
    {
     "data": {
      "text/html": [
       "Syncing run <strong><a href='https://wandb.ai/nikgorby/diplom_0106/runs/4zndz312/workspace' target=\"_blank\">Decision Tree depth=30</a></strong> to <a href='https://wandb.ai/nikgorby/diplom_0106' target=\"_blank\">Weights & Biases</a> (<a href='https://wandb.me/run' target=\"_blank\">docs</a>)<br/>"
      ],
      "text/plain": [
       "<IPython.core.display.HTML object>"
      ]
     },
     "metadata": {},
     "output_type": "display_data"
    },
    {
     "data": {
      "text/html": [
       " View project at <a href='https://wandb.ai/nikgorby/diplom_0106' target=\"_blank\">https://wandb.ai/nikgorby/diplom_0106</a>"
      ],
      "text/plain": [
       "<IPython.core.display.HTML object>"
      ]
     },
     "metadata": {},
     "output_type": "display_data"
    },
    {
     "data": {
      "text/html": [
       " View run at <a href='https://wandb.ai/nikgorby/diplom_0106/runs/4zndz312/workspace' target=\"_blank\">https://wandb.ai/nikgorby/diplom_0106/runs/4zndz312/workspace</a>"
      ],
      "text/plain": [
       "<IPython.core.display.HTML object>"
      ]
     },
     "metadata": {},
     "output_type": "display_data"
    },
    {
     "data": {
      "application/vnd.jupyter.widget-view+json": {
       "model_id": "988665c0207646fd81c1fb1574b8262f",
       "version_major": 2,
       "version_minor": 0
      },
      "text/plain": [
       "VBox(children=(Label(value='3.666 MB of 21.296 MB uploaded\\r'), FloatProgress(value=0.17216461120230503, max=1…"
      ]
     },
     "metadata": {},
     "output_type": "display_data"
    },
    {
     "data": {
      "text/html": [
       "<style>\n",
       "    table.wandb td:nth-child(1) { padding: 0 10px; text-align: left ; width: auto;} td:nth-child(2) {text-align: left ; width: 100%}\n",
       "    .wandb-row { display: flex; flex-direction: row; flex-wrap: wrap; justify-content: flex-start; width: 100% }\n",
       "    .wandb-col { display: flex; flex-direction: column; flex-basis: 100%; flex: 1; padding: 10px; }\n",
       "    </style>\n",
       "<div class=\"wandb-row\"><div class=\"wandb-col\"><h3>Run history:</h3><br/><table class=\"wandb\"><tr><td>MAE</td><td>▁</td></tr><tr><td>MSE</td><td>▁</td></tr><tr><td>R2</td><td>▁</td></tr></table><br/></div><div class=\"wandb-col\"><h3>Run summary:</h3><br/><table class=\"wandb\"><tr><td>MAE</td><td>290138.28793</td></tr><tr><td>MSE</td><td>2603351559236.6006</td></tr><tr><td>R2</td><td>0.23115</td></tr></table><br/></div></div>"
      ],
      "text/plain": [
       "<IPython.core.display.HTML object>"
      ]
     },
     "metadata": {},
     "output_type": "display_data"
    },
    {
     "data": {
      "text/html": [
       " View run <strong style=\"color:#cdcd00\">Decision Tree depth=30</strong> at: <a href='https://wandb.ai/nikgorby/diplom_0106/runs/4zndz312/workspace' target=\"_blank\">https://wandb.ai/nikgorby/diplom_0106/runs/4zndz312/workspace</a><br/>Synced 5 W&B file(s), 0 media file(s), 0 artifact file(s) and 1 other file(s)"
      ],
      "text/plain": [
       "<IPython.core.display.HTML object>"
      ]
     },
     "metadata": {},
     "output_type": "display_data"
    },
    {
     "data": {
      "text/html": [
       "Find logs at: <code>./wandb/run-20240601_080724-4zndz312/logs</code>"
      ],
      "text/plain": [
       "<IPython.core.display.HTML object>"
      ]
     },
     "metadata": {},
     "output_type": "display_data"
    }
   ],
   "source": [
    "with open('/home/dwarf/diplom/wandb.json', 'r') as f:\n",
    "  data = json.load(f)\n",
    "  os.environ['WANDB_API_KEY'] = data[\"key\"]\n",
    "\n",
    "wandb.login()\n",
    "\n",
    "# Разделение данных на тренировочный и тестовый наборы\n",
    "X_train, X_test, y_train, y_test = train_test_split(X, y, test_size=0.2)\n",
    "\n",
    "max_depths = [5, 10, 15, 20, 25, 30]\n",
    "\n",
    "for depth in max_depths:\n",
    "  run = wandb.init(entity=None, project=\"diplom_0106\", name = f'Decision Tree depth={depth}')\n",
    "\n",
    "  # Создание и обучение модели дерева решений\n",
    "  model = DecisionTreeRegressor(random_state=42)\n",
    "  model.fit(X_train, y_train)\n",
    "\n",
    "  # Предсказание на тестовом наборе\n",
    "  y_pred = model.predict(X_test)\n",
    "\n",
    "  # Рассчитываем метрики качества\n",
    "  mae = mean_absolute_error(y_test, y_pred)\n",
    "  mse = mean_squared_error(y_test, y_pred)\n",
    "  r2 = r2_score(y_test, y_pred)\n",
    "\n",
    "  # Логирование метрик в W&B\n",
    "  wandb.log({\"MAE\": mae})\n",
    "  wandb.log({\"MSE\": mse})\n",
    "  wandb.log({\"R2\": r2})   \n",
    "\n",
    "  # Сохранение модели\n",
    "  model_filename = \"decision_tree_model.pkl\"\n",
    "  joblib.dump(model, model_filename)\n",
    "\n",
    "  # Загрузка сохраненной модели в W&B\n",
    "  wandb.save(model_filename)\n",
    "\n",
    "# Завершение сессии W&B\n",
    "wandb.finish()"
   ]
  }
 ],
 "metadata": {
  "kernelspec": {
   "display_name": "diplom_env_conda",
   "language": "python",
   "name": "python3"
  },
  "language_info": {
   "codemirror_mode": {
    "name": "ipython",
    "version": 3
   },
   "file_extension": ".py",
   "mimetype": "text/x-python",
   "name": "python",
   "nbconvert_exporter": "python",
   "pygments_lexer": "ipython3",
   "version": "3.10.14"
  }
 },
 "nbformat": 4,
 "nbformat_minor": 2
}
