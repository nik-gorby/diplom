{
 "cells": [
  {
   "cell_type": "code",
   "execution_count": null,
   "metadata": {},
   "outputs": [],
   "source": [
    "import warnings\n",
    "warnings.filterwarnings('ignore')\n",
    "import os\n",
    "import re\n",
    "import time\n",
    "import numpy as np\n",
    "import pandas as pd\n",
    "\n",
    "from sklearn.model_selection import train_test_split\n",
    "from sklearn.linear_model import LogisticRegression\n",
    "from sklearn.metrics import classification_report, accuracy_score\n",
    "from sklearn.metrics import roc_auc_score, roc_curve, confusion_matrix\n",
    "from sklearn.preprocessing import LabelEncoder, OneHotEncoder\n",
    "from sklearn.datasets import fetch_20newsgroups, load_files\n",
    "\n",
    "import pandas as pd\n",
    "from scipy.sparse import csr_matrix\n",
    "import matplotlib.pyplot as plt\n",
    "%matplotlib inline\n",
    "import seaborn as sns\n",
    "\n",
    "from geopy.geocoders import Nominatim\n",
    "from geopy.exc import GeocoderTimedOut, GeocoderUnavailable\n",
    "\n",
    "from tqdm.auto import tqdm\n",
    "\n",
    "df_orig = pd.read_csv('./data/data.csv')"
   ]
  },
  {
   "cell_type": "code",
   "execution_count": null,
   "metadata": {},
   "outputs": [],
   "source": [
    "geolocator = Nominatim(user_agent=\"my_geocoder\")\n",
    "\n",
    "def convert(cell_val):\n",
    "    \"\"\"\n",
    "    Purpose: \n",
    "    \"\"\"\n",
    "    pattern = r\"\\d+(,\\d+)?(\\.\\d+)?\"\n",
    "    num_str = re.search(pattern, cell_val)\n",
    "\n",
    "    if (num_str):\n",
    "        # comment: \n",
    "        return float(num_str.group().replace(',' , ''))\n",
    "    else:\n",
    "        return None\n",
    "        # comment: \n",
    "    # end if\n",
    "# end def\n",
    "\n",
    "def addr_to_coords(addr, geolocator):\n",
    "    \"\"\"\n",
    "    Purpose: \n",
    "    \"\"\"\n",
    "    geolocator = Nominatim(user_agent=\"my_geocoder\", scheme='http', domain='localhost:8080', timeout=10)\n",
    "\n",
    "    # Геокодирование адреса\n",
    "    try:\n",
    "        # comment: \n",
    "        location = geolocator.geocode(addr)\n",
    "        if (location):\n",
    "        # comment:\n",
    "            return (location.latitude, location.longitude)\n",
    "        else:\n",
    "            # comment: \n",
    "            return None\n",
    "    # end if\n",
    "    except (GeocoderTimedOut, GeocoderUnavailable) as e:\n",
    "        print(f\"Error: {e}. Retrying...\")\n",
    "        time.sleep(2)  # Добавляем задержку перед повторной попыткой\n",
    "        return addr_to_coords(addr, geolocator)\n",
    "    # end try"
   ]
  },
  {
   "cell_type": "code",
   "execution_count": null,
   "metadata": {},
   "outputs": [],
   "source": [
    "df = df_orig.copy()\n",
    "\n",
    "df.drop(['zipcode', 'mls-id', 'MlsId'], axis=1, inplace=True)\n",
    "\n",
    "df['street'] = df['street'].astype(str).str.strip()\n",
    "df['state'] = df['state'].astype(str).str.strip()\n",
    "df['full_addr'] = df['street'] +', '+ df['state']"
   ]
  },
  {
   "cell_type": "code",
   "execution_count": null,
   "metadata": {},
   "outputs": [],
   "source": [
    "tqdm.pandas(desc=\"Processing rows\")\n",
    "\n",
    "df100 = df.copy()\n",
    "\n",
    "df100['coords'] = df100['full_addr'].progress_apply(lambda x: addr_to_coords(x, geolocator))\n",
    "df100[['latitude', 'longitude']] = df100['coords'].apply(lambda x: pd.Series(x) if x is not None else pd.Series([None, None]))\n",
    "\n",
    "df100.to_csv('./data/data_with_coords50000.csv', mode='a+', header=False)"
   ]
  },
  {
   "cell_type": "code",
   "execution_count": null,
   "metadata": {},
   "outputs": [],
   "source": [
    "df = pd.read_csv('data/data_with_coords50000.csv')"
   ]
  },
  {
   "cell_type": "markdown",
   "metadata": {},
   "source": [
    "Удалим колонки, участвовавшие в геокодировании"
   ]
  },
  {
   "cell_type": "code",
   "execution_count": null,
   "metadata": {},
   "outputs": [],
   "source": [
    "df = df.dropna(subset=['coords'])\n",
    "labels = [\n",
    "    'street',\n",
    "    'city',\n",
    "    'full_addr',\n",
    "    'coords'\n",
    "]\n",
    "df.drop(labels=labels, axis=1, inplace=True)\n",
    "\n",
    "df = df.rename(columns={\n",
    "    'latitude': 'lat',\n",
    "    'longitude': 'lon'\n",
    "})"
   ]
  },
  {
   "cell_type": "code",
   "execution_count": 117,
   "metadata": {},
   "outputs": [
    {
     "name": "stdout",
     "output_type": "stream",
     "text": [
      "Количество значений NaN по каждой колонке:\n",
      "Unnamed: 0           0\n",
      "status           24558\n",
      "private pool         0\n",
      "propertyType     20528\n",
      "baths            70549\n",
      "homeFacts            0\n",
      "fireplace       176391\n",
      "schools              0\n",
      "sqft             26753\n",
      "beds             57994\n",
      "state                0\n",
      "stories          96840\n",
      "PrivatePool          0\n",
      "target               0\n",
      "lat                  0\n",
      "lon                  0\n",
      "dtype: int64\n"
     ]
    }
   ],
   "source": [
    "missing_values_per_column = df.isna().sum()\n",
    "print(\"Количество значений NaN по каждой колонке:\")\n",
    "print(missing_values_per_column)\n"
   ]
  },
  {
   "cell_type": "markdown",
   "metadata": {},
   "source": [
    "точно можно удалить строки с нулевыми значениями в target, толку от неизвестной цены не будет"
   ]
  },
  {
   "cell_type": "code",
   "execution_count": null,
   "metadata": {},
   "outputs": [],
   "source": [
    "df = df.dropna(subset=['target'])\n",
    "\n",
    "df['target'] = df['target'].astype(str)\n",
    "df['target'] = df['target'].map(convert)"
   ]
  },
  {
   "cell_type": "markdown",
   "metadata": {},
   "source": [
    "Обработаем столбец 'private pool'"
   ]
  },
  {
   "cell_type": "code",
   "execution_count": null,
   "metadata": {},
   "outputs": [],
   "source": [
    "df.loc[df['private pool'] == 'Yes', 'private pool'] = 1\n",
    "df['private pool'].fillna(0, inplace=True)\n",
    "df['private pool'] = df['private pool'].astype(int)"
   ]
  },
  {
   "cell_type": "markdown",
   "metadata": {},
   "source": [
    "Обработаем столбец 'PrivatePool'"
   ]
  },
  {
   "cell_type": "code",
   "execution_count": 115,
   "metadata": {},
   "outputs": [],
   "source": [
    "df.loc[df['PrivatePool'] == 'Yes', 'PrivatePool'] = 1\n",
    "df.loc[df['PrivatePool'] == 'yes', 'PrivatePool'] = 1\n",
    "df['PrivatePool'].fillna(0, inplace=True)\n",
    "df['PrivatePool'] = df['PrivatePool'].astype(int)"
   ]
  },
  {
   "cell_type": "code",
   "execution_count": null,
   "metadata": {},
   "outputs": [],
   "source": [
    "with open('temp.csv', 'w') as f:\n",
    "    # Comment: \n",
    "    df['baths'].value_counts().to_csv(f)\n",
    "# end open file\n"
   ]
  },
  {
   "cell_type": "code",
   "execution_count": null,
   "metadata": {},
   "outputs": [],
   "source": [
    "df[df['beds']=='Baths']"
   ]
  },
  {
   "cell_type": "code",
   "execution_count": null,
   "metadata": {},
   "outputs": [],
   "source": [
    "df[df['beds']=='Baths']"
   ]
  },
  {
   "cell_type": "code",
   "execution_count": null,
   "metadata": {},
   "outputs": [],
   "source": [
    "print(df.shape)\n",
    "print(df_orig.shape)"
   ]
  }
 ],
 "metadata": {
  "kernelspec": {
   "display_name": "diplom_venv",
   "language": "python",
   "name": "python3"
  },
  "language_info": {
   "codemirror_mode": {
    "name": "ipython",
    "version": 3
   },
   "file_extension": ".py",
   "mimetype": "text/x-python",
   "name": "python",
   "nbconvert_exporter": "python",
   "pygments_lexer": "ipython3",
   "version": "3.10.14"
  }
 },
 "nbformat": 4,
 "nbformat_minor": 2
}
