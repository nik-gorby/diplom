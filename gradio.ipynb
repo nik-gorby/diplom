{
 "cells": [
  {
   "cell_type": "code",
   "execution_count": 3,
   "metadata": {},
   "outputs": [
    {
     "data": {
      "application/vnd.jupyter.widget-view+json": {
       "model_id": "5bdc9abae8fb4df58e9672f9efcfbdb2",
       "version_major": 2,
       "version_minor": 0
      },
      "text/plain": [
       "random_forest_model (1).pkl:   0%|          | 0.00/1.56G [00:00<?, ?B/s]"
      ]
     },
     "metadata": {},
     "output_type": "display_data"
    },
    {
     "name": "stdout",
     "output_type": "stream",
     "text": [
      "Running on local URL:  http://127.0.0.1:7862\n",
      "Running on public URL: https://77040ee99d2a3b85ef.gradio.live\n",
      "\n",
      "This share link expires in 72 hours. For free permanent hosting and GPU upgrades, run `gradio deploy` from Terminal to deploy to Spaces (https://huggingface.co/spaces)\n"
     ]
    },
    {
     "data": {
      "text/html": [
       "<div><iframe src=\"https://77040ee99d2a3b85ef.gradio.live\" width=\"100%\" height=\"500\" allow=\"autoplay; camera; microphone; clipboard-read; clipboard-write;\" frameborder=\"0\" allowfullscreen></iframe></div>"
      ],
      "text/plain": [
       "<IPython.core.display.HTML object>"
      ]
     },
     "metadata": {},
     "output_type": "display_data"
    },
    {
     "data": {
      "text/plain": []
     },
     "execution_count": 3,
     "metadata": {},
     "output_type": "execute_result"
    },
    {
     "name": "stderr",
     "output_type": "stream",
     "text": [
      "/home/dwarf/miniconda3/envs/diplom_env_conda/lib/python3.10/site-packages/sklearn/base.py:493: UserWarning: X does not have valid feature names, but RandomForestRegressor was fitted with feature names\n",
      "  warnings.warn(\n"
     ]
    }
   ],
   "source": [
    "import gradio as gr\n",
    "import pandas as pd\n",
    "from huggingface_hub import hf_hub_download\n",
    "import joblib\n",
    "from geopy.geocoders import Nominatim, Photon\n",
    "from geopy.exc import GeocoderTimedOut, GeocoderUnavailable\n",
    "import time\n",
    "\n",
    "# Загрузка модели из репозитория HF\n",
    "model_path = hf_hub_download(repo_id=\"Nikgorby/diplom_DS_SF\", filename=\"random_forest_model (1).pkl\")\n",
    "model = joblib.load(model_path)\n",
    "\n",
    "def predict(features_lst: list, model):\n",
    "    \"\"\"Получение предсказаний от модели\n",
    "\n",
    "    Args:\n",
    "        features_lst (list): список фичей\n",
    "        model (model): обученная модель\n",
    "\n",
    "    Returns:\n",
    "        list: предсказание\n",
    "    \"\"\"\n",
    "    # Предсказание\n",
    "    predictions = model.predict(features_lst)\n",
    "\n",
    "    return predictions\n",
    "# end def\n",
    "\n",
    "def addr_to_coords(addr: str):\n",
    "    \"\"\"Функция получения координат по адресу\n",
    "\n",
    "    Args:\n",
    "        addr (str): Строка с адресом\n",
    "\n",
    "    Returns:\n",
    "        float: координаты широта, долгота\n",
    "    \"\"\"\n",
    "    geolocator = Photon(user_agent=\"my_geocoder\")\n",
    "\n",
    "    # Геокодирование адреса\n",
    "    try:\n",
    "        # попытка получения координат\n",
    "        location = geolocator.geocode(addr)\n",
    "        if (location):\n",
    "        # координаты получены\n",
    "            return location.latitude, location.longitude\n",
    "        else:\n",
    "            # координаты не получены\n",
    "            return 0, 0\n",
    "    # end if\n",
    "    except (GeocoderTimedOut, GeocoderUnavailable) as e:\n",
    "        print(f\"Error: {e}. Retrying...\")\n",
    "        time.sleep(2)  # Добавляем задержку перед повторной попыткой\n",
    "        return addr_to_coords(addr)\n",
    "    # end try\n",
    "\n",
    "def predict_out(baths, square, beds, address, pool, property_type, state, year_built, remodeled_year, avg_school_rating, schools_qty, avg_school_dist):\n",
    "    \"\"\"Функция получения предсказания от модели\n",
    "\n",
    "    Args:\n",
    "        args: фичи\n",
    "\n",
    "    Returns:\n",
    "        float: предсказание модели\n",
    "    \"\"\"\n",
    "\n",
    "    # Формирование признака объекта\n",
    "    lst = [0]*8\n",
    "    lst[property_type] = 1\n",
    "    property_type = \", \".join(map(str, lst))\n",
    "\n",
    "    # Преобразование адреса в координаты\n",
    "    coords = addr_to_coords(address)\n",
    "    coords = \", \".join(map(str, coords))\n",
    "\n",
    "    # Формирование списка фичей\n",
    "    features_lst = f'{baths}, {square}, {beds}, {coords}, {pool}, {property_type}, {state}, {year_built}, {remodeled_year}, {avg_school_rating}, {schools_qty}, {avg_school_dist}'\n",
    "    features_lst = features_lst.split(\", \")\n",
    "    features_lst = [float(num) for num in features_lst]\n",
    "    features_lst = [features_lst]\n",
    "\n",
    "    # Предсказание\n",
    "    predictions = predict(features_lst, model)\n",
    "    \n",
    "    # Возвращение предсказаний в виде DataFrame\n",
    "    result = int(predictions[0])\n",
    "    return features_lst, result\n",
    "\n",
    "# Создание интерфейса Gradio\n",
    "title = \"Интерактивное демо модели\"\n",
    "description = \"Введите фичи.\"\n",
    "\n",
    "iface = gr.Interface(\n",
    "    fn=predict_out,\n",
    "    inputs=[gr.Textbox(label=\"Кол-во ванных\"),\n",
    "            gr.Textbox(label=\"Площадь, кв. фут.\"),\n",
    "            gr.Textbox(label=\"Кол-во спален\"),\n",
    "            gr.Textbox(label=\"Адрес в виде 32413 Crystal Breeze Ln, Leesburg\"),\n",
    "            gr.Radio(\n",
    "                [\"Нет\", \"Да\"], type=\"index\",\n",
    "                label = \"Бассейн\"\n",
    "            ),\n",
    "            gr.Dropdown(\n",
    "                [\"Кондоминиум\", \"Зем. участок\", \"На неск. семей\", \"Другое\", \"Ранчо\", \"На одну семью\", \"Таунхаус\", \"Традиционное\"],\n",
    "                label='Тип объекта',\n",
    "                type=\"index\"\n",
    "            ),\n",
    "            gr.Textbox(label='Штат (номер)'),\n",
    "            gr.Textbox(label=\"Год постройки\"),\n",
    "            gr.Textbox(label=\"Год капитального ремонта (0 если не проводился)\"),\n",
    "            gr.Textbox(label=\"Средний рейтинг школ рядом (от 0 до 1)\"),\n",
    "            gr.Textbox(label=\"Количество школ рядом\"),\n",
    "            gr.Textbox(label=\"Среднее расстояние до школы, миль\"),\n",
    "            ],\n",
    "    outputs=[gr.Textbox(label=\"Features\"),\n",
    "             gr.Textbox(label=\"Предсказание, $\")],\n",
    "    title=title,\n",
    "    description=description,\n",
    "    allow_flagging='never'\n",
    ")\n",
    "\n",
    "# Запуск приложения\n",
    "iface.launch()"
   ]
  }
 ],
 "metadata": {
  "kernelspec": {
   "display_name": "diplom_env_conda",
   "language": "python",
   "name": "python3"
  },
  "language_info": {
   "codemirror_mode": {
    "name": "ipython",
    "version": 3
   },
   "file_extension": ".py",
   "mimetype": "text/x-python",
   "name": "python",
   "nbconvert_exporter": "python",
   "pygments_lexer": "ipython3",
   "version": "3.10.14"
  }
 },
 "nbformat": 4,
 "nbformat_minor": 2
}
