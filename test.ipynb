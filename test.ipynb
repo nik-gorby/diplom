{
 "cells": [
  {
   "cell_type": "code",
   "execution_count": null,
   "id": "initial_id",
   "metadata": {
    "ExecuteTime": {
     "end_time": "2024-05-31T10:32:21.151638600Z",
     "start_time": "2024-05-31T10:31:04.263759300Z"
    },
    "collapsed": true
   },
   "outputs": [],
   "source": [
    "import wandb\n",
    "from sklearn.datasets import fetch_california_housing\n",
    "from sklearn.model_selection import train_test_split\n",
    "from sklearn.ensemble import RandomForestRegressor\n",
    "from sklearn.metrics import mean_squared_error\n",
    "import joblib\n",
    "import json\n",
    "import os\n",
    "\n",
    "with open('/home/dwarf/diplom/wandb.json', 'r') as f:\n",
    "  data = json.load(f)\n",
    "  os.environ['WANDB_API_KEY'] = data[\"key\"]\n",
    "\n",
    "wandb.login()\n",
    "# wandb.setup()._settings._service_wait = 60\n",
    "wandb.init(entity=None, project=\"diplom\")\n",
    "wandb.alert(title=\"Logging in\", text=\"Login\")\n",
    "\n",
    "# # Установите ваш W&B API ключ напрямую в коде\n",
    "# wandb.login(key=\"10616115df83e5c6f00de04ca3e9e0fe544e79da\")\n",
    "# \n",
    "# # Инициализация W&B\n",
    "# wandb.init(project=\"random-forest-regression\", entity=\"nikgorby\")\n",
    "\n",
    "# Загрузка датасета\n",
    "california = fetch_california_housing()\n",
    "X = california.data\n",
    "y = california.target\n",
    "\n",
    "# Разделение данных на обучающую и тестовую выборки\n",
    "X_train, X_test, y_train, y_test = train_test_split(X, y, test_size=0.2, random_state=42)\n",
    "\n",
    "# Задание гиперпараметров\n",
    "n_estimators = 100\n",
    "max_depth = None\n",
    "random_state = 42\n",
    "\n",
    "# Логирование гиперпараметров в W&B\n",
    "wandb.config = {\n",
    "    \"n_estimators\": n_estimators,\n",
    "    \"max_depth\": max_depth,\n",
    "    \"random_state\": random_state\n",
    "}\n",
    "\n",
    "# Создание и обучение модели\n",
    "model = RandomForestRegressor(n_estimators=n_estimators, max_depth=max_depth, random_state=random_state)\n",
    "model.fit(X_train, y_train)\n",
    "\n",
    "# Предсказания на тестовой выборке\n",
    "y_pred = model.predict(X_test)\n",
    "\n",
    "# Вычисление метрик\n",
    "mse = mean_squared_error(y_test, y_pred)\n",
    "\n",
    "# Логирование метрик в W&B\n",
    "wandb.log({\"mean_squared_error\": mse})\n",
    "\n",
    "print(f\"Mean Squared Error: {mse}\")\n",
    "\n",
    "# Сохранение модели\n",
    "model_filename = \"random_forest_model.pkl\"\n",
    "joblib.dump(model, model_filename)\n",
    "\n",
    "# Загрузка сохраненной модели в W&B\n",
    "wandb.save(model_filename)\n",
    "\n",
    "# Завершение сессии W&B\n",
    "wandb.finish()\n"
   ]
  },
  {
   "cell_type": "code",
   "execution_count": null,
   "id": "a1367134dc2a9f44",
   "metadata": {
    "ExecuteTime": {
     "end_time": "2024-05-31T10:26:26.011068800Z",
     "start_time": "2024-05-31T10:26:25.931492200Z"
    },
    "collapsed": false
   },
   "outputs": [],
   "source": [
    "print('fff')"
   ]
  }
 ],
 "metadata": {
  "kernelspec": {
   "display_name": "Python 3",
   "language": "python",
   "name": "python3"
  },
  "language_info": {
   "codemirror_mode": {
    "name": "ipython",
    "version": 2
   },
   "file_extension": ".py",
   "mimetype": "text/x-python",
   "name": "python",
   "nbconvert_exporter": "python",
   "pygments_lexer": "ipython2",
   "version": "2.7.6"
  }
 },
 "nbformat": 4,
 "nbformat_minor": 5
}
