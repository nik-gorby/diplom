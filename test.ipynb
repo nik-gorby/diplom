{
 "cells": [
  {
   "cell_type": "code",
   "execution_count": 5,
   "id": "initial_id",
   "metadata": {
    "collapsed": true,
    "ExecuteTime": {
     "end_time": "2024-05-31T10:32:21.151638600Z",
     "start_time": "2024-05-31T10:31:04.263759300Z"
    }
   },
   "outputs": [
    {
     "data": {
      "text/plain": "<IPython.core.display.HTML object>",
      "text/html": "Changes to your `wandb` environment variables will be ignored because your `wandb` session has already started. For more information on how to modify your settings with `wandb.init()` arguments, please refer to <a href='https://wandb.me/wandb-init' target=\"_blank\">the W&B docs</a>."
     },
     "metadata": {},
     "output_type": "display_data"
    },
    {
     "data": {
      "text/plain": "VBox(children=(Label(value='Waiting for wandb.init()...\\r'), FloatProgress(value=0.011114631066666587, max=1.0…",
      "application/vnd.jupyter.widget-view+json": {
       "version_major": 2,
       "version_minor": 0,
       "model_id": "b13ce919847f457296aa03a142a3b733"
      }
     },
     "metadata": {},
     "output_type": "display_data"
    },
    {
     "data": {
      "text/plain": "<IPython.core.display.HTML object>",
      "text/html": "Tracking run with wandb version 0.16.5"
     },
     "metadata": {},
     "output_type": "display_data"
    },
    {
     "data": {
      "text/plain": "<IPython.core.display.HTML object>",
      "text/html": "Run data is saved locally in <code>/home/dwarf/diplom/wandb/run-20240531_133104-u67zvtcf</code>"
     },
     "metadata": {},
     "output_type": "display_data"
    },
    {
     "data": {
      "text/plain": "<IPython.core.display.HTML object>",
      "text/html": "Syncing run <strong><a href='https://wandb.ai/nikgorby/diplom/runs/u67zvtcf/workspace' target=\"_blank\">sunny-disco-1</a></strong> to <a href='https://wandb.ai/nikgorby/diplom' target=\"_blank\">Weights & Biases</a> (<a href='https://wandb.me/run' target=\"_blank\">docs</a>)<br/>"
     },
     "metadata": {},
     "output_type": "display_data"
    },
    {
     "data": {
      "text/plain": "<IPython.core.display.HTML object>",
      "text/html": " View project at <a href='https://wandb.ai/nikgorby/diplom' target=\"_blank\">https://wandb.ai/nikgorby/diplom</a>"
     },
     "metadata": {},
     "output_type": "display_data"
    },
    {
     "data": {
      "text/plain": "<IPython.core.display.HTML object>",
      "text/html": " View run at <a href='https://wandb.ai/nikgorby/diplom/runs/u67zvtcf/workspace' target=\"_blank\">https://wandb.ai/nikgorby/diplom/runs/u67zvtcf/workspace</a>"
     },
     "metadata": {},
     "output_type": "display_data"
    },
    {
     "name": "stdout",
     "output_type": "stream",
     "text": [
      "Mean Squared Error: 0.2553684927247781\n"
     ]
    },
    {
     "data": {
      "text/plain": "VBox(children=(Label(value='0.002 MB of 138.041 MB uploaded\\r'), FloatProgress(value=1.682246549556883e-05, ma…",
      "application/vnd.jupyter.widget-view+json": {
       "version_major": 2,
       "version_minor": 0,
       "model_id": "385d95b7942649149b234429b8ad0b28"
      }
     },
     "metadata": {},
     "output_type": "display_data"
    },
    {
     "data": {
      "text/plain": "<IPython.core.display.HTML object>",
      "text/html": "<style>\n    table.wandb td:nth-child(1) { padding: 0 10px; text-align: left ; width: auto;} td:nth-child(2) {text-align: left ; width: 100%}\n    .wandb-row { display: flex; flex-direction: row; flex-wrap: wrap; justify-content: flex-start; width: 100% }\n    .wandb-col { display: flex; flex-direction: column; flex-basis: 100%; flex: 1; padding: 10px; }\n    </style>\n<div class=\"wandb-row\"><div class=\"wandb-col\"><h3>Run history:</h3><br/><table class=\"wandb\"><tr><td>mean_squared_error</td><td>▁</td></tr></table><br/></div><div class=\"wandb-col\"><h3>Run summary:</h3><br/><table class=\"wandb\"><tr><td>mean_squared_error</td><td>0.25537</td></tr></table><br/></div></div>"
     },
     "metadata": {},
     "output_type": "display_data"
    },
    {
     "data": {
      "text/plain": "<IPython.core.display.HTML object>",
      "text/html": " View run <strong style=\"color:#cdcd00\">sunny-disco-1</strong> at: <a href='https://wandb.ai/nikgorby/diplom/runs/u67zvtcf/workspace' target=\"_blank\">https://wandb.ai/nikgorby/diplom/runs/u67zvtcf/workspace</a><br/>Synced 5 W&B file(s), 0 media file(s), 2 artifact file(s) and 1 other file(s)"
     },
     "metadata": {},
     "output_type": "display_data"
    },
    {
     "data": {
      "text/plain": "<IPython.core.display.HTML object>",
      "text/html": "Find logs at: <code>./wandb/run-20240531_133104-u67zvtcf/logs</code>"
     },
     "metadata": {},
     "output_type": "display_data"
    }
   ],
   "source": [
    "# Установка необходимых библиотек\n",
    "# !pip install wandb scikit-learn joblib\n",
    "\n",
    "import wandb\n",
    "from sklearn.datasets import fetch_california_housing\n",
    "from sklearn.model_selection import train_test_split\n",
    "from sklearn.ensemble import RandomForestRegressor\n",
    "from sklearn.metrics import mean_squared_error\n",
    "import joblib\n",
    "import json\n",
    "import os\n",
    "\n",
    "with open('/home/dwarf/diplom/wandb.json', 'r') as f:\n",
    "  data = json.load(f)\n",
    "  os.environ['WANDB_API_KEY'] = data[\"key\"]\n",
    "\n",
    "wandb.login()\n",
    "# wandb.setup()._settings._service_wait = 60\n",
    "wandb.init(entity=None, project=\"diplom\")\n",
    "wandb.alert(title=\"Logging in\", text=\"Login\")\n",
    "\n",
    "# # Установите ваш W&B API ключ напрямую в коде\n",
    "# wandb.login(key=\"10616115df83e5c6f00de04ca3e9e0fe544e79da\")\n",
    "# \n",
    "# # Инициализация W&B\n",
    "# wandb.init(project=\"random-forest-regression\", entity=\"nikgorby\")\n",
    "\n",
    "# Загрузка датасета\n",
    "california = fetch_california_housing()\n",
    "X = california.data\n",
    "y = california.target\n",
    "\n",
    "# Разделение данных на обучающую и тестовую выборки\n",
    "X_train, X_test, y_train, y_test = train_test_split(X, y, test_size=0.2, random_state=42)\n",
    "\n",
    "# Задание гиперпараметров\n",
    "n_estimators = 100\n",
    "max_depth = None\n",
    "random_state = 42\n",
    "\n",
    "# Логирование гиперпараметров в W&B\n",
    "wandb.config = {\n",
    "    \"n_estimators\": n_estimators,\n",
    "    \"max_depth\": max_depth,\n",
    "    \"random_state\": random_state\n",
    "}\n",
    "\n",
    "# Создание и обучение модели\n",
    "model = RandomForestRegressor(n_estimators=n_estimators, max_depth=max_depth, random_state=random_state)\n",
    "model.fit(X_train, y_train)\n",
    "\n",
    "# Предсказания на тестовой выборке\n",
    "y_pred = model.predict(X_test)\n",
    "\n",
    "# Вычисление метрик\n",
    "mse = mean_squared_error(y_test, y_pred)\n",
    "\n",
    "# Логирование метрик в W&B\n",
    "wandb.log({\"mean_squared_error\": mse})\n",
    "\n",
    "print(f\"Mean Squared Error: {mse}\")\n",
    "\n",
    "# Сохранение модели\n",
    "model_filename = \"random_forest_model.pkl\"\n",
    "joblib.dump(model, model_filename)\n",
    "\n",
    "# Загрузка сохраненной модели в W&B\n",
    "wandb.save(model_filename)\n",
    "\n",
    "# Завершение сессии W&B\n",
    "wandb.finish()\n"
   ]
  },
  {
   "cell_type": "code",
   "outputs": [
    {
     "name": "stdout",
     "output_type": "stream",
     "text": [
      "fff\n"
     ]
    }
   ],
   "source": [
    "print('fff')"
   ],
   "metadata": {
    "collapsed": false,
    "ExecuteTime": {
     "end_time": "2024-05-31T10:26:26.011068800Z",
     "start_time": "2024-05-31T10:26:25.931492200Z"
    }
   },
   "id": "a1367134dc2a9f44",
   "execution_count": 1
  }
 ],
 "metadata": {
  "kernelspec": {
   "display_name": "Python 3",
   "language": "python",
   "name": "python3"
  },
  "language_info": {
   "codemirror_mode": {
    "name": "ipython",
    "version": 2
   },
   "file_extension": ".py",
   "mimetype": "text/x-python",
   "name": "python",
   "nbconvert_exporter": "python",
   "pygments_lexer": "ipython2",
   "version": "2.7.6"
  }
 },
 "nbformat": 4,
 "nbformat_minor": 5
}
